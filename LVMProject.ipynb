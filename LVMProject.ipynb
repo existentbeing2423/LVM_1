{
 "cells": [
  {
   "cell_type": "code",
   "execution_count": 5,
   "id": "initial_id",
   "metadata": {
    "ExecuteTime": {
     "end_time": "2025-10-16T08:29:55.029518Z",
     "start_time": "2025-10-16T08:29:55.024692Z"
    }
   },
   "outputs": [],
   "source": [
    "from z3 import *\n",
    "from itertools import combinations, permutations, product"
   ]
  },
  {
   "cell_type": "code",
   "execution_count": 6,
   "id": "59ea9b0d5c1b3f18",
   "metadata": {
    "ExecuteTime": {
     "end_time": "2025-10-16T08:29:55.079351Z",
     "start_time": "2025-10-16T08:29:55.035413Z"
    }
   },
   "outputs": [],
   "source": [
    "board1=[[9,0,3,4,2],2,[7,0,7,9,4],0,[3,9,4,5,8],2,[3,4,1,0,9],1,[5,1,5,4,5],2,[1,2,5,3,1],1]\n",
    "\n",
    "board12=[[9,0,3,4,2],2,2,\n",
    "         [7,0,7,9,4],0,2,\n",
    "         [3,9,4,5,8],2,2,\n",
    "         [3,4,1,0,9],1,2,\n",
    "         [5,1,5,4,5],2,0,\n",
    "         [1,2,5,3,1],1,2]\n",
    "\n",
    "board=[[5,6,1,6,1,8,5,6,5,0,5,1,8,2,9,3],2,[3,8,4,7,4,3,9,6,4,7,2,9,3,0,4,7],1,[5,8,5,5,4,6,2,9,4,0,8,1,0,5,8,7],3,[9,7,4,2,8,5,5,5,0,7,0,6,8,3,5,3],3,[4,2,9,6,8,4,9,6,4,3,6,0,7,5,4,3],3,[3,1,7,4,2,4,8,4,3,9,4,6,5,8,5,8],1,[4,5,1,3,5,5,9,0,9,4,1,4,6,1,1,7],2,[7,8,9,0,9,7,1,5,4,8,9,0,8,0,6,7],3,[8,1,5,7,3,5,6,3,4,4,1,1,8,4,8,3],1,[2,6,1,5,2,5,0,7,4,4,3,8,6,8,9,9],2,[8,6,9,0,0,9,5,8,5,1,5,2,6,2,5,4],3,[6,3,7,5,7,1,1,9,1,5,0,7,7,0,5,0],1,[6,9,1,3,8,5,9,1,7,3,1,2,1,3,6,0],1,[6,4,4,2,8,8,9,0,5,5,0,4,2,7,6,8],2,[2,3,2,1,3,8,6,1,0,4,3,0,3,8,4,5],0,[2,3,2,6,5,0,9,4,7,1,2,7,1,4,4,8],2,[5,2,5,1,5,8,3,3,7,9,6,4,4,3,2,2],2,[1,7,4,8,2,7,0,4,7,6,7,5,8,2,7,6],3,[4,8,9,5,7,2,2,6,5,2,1,9,0,3,0,6],1,[3,0,4,1,6,3,1,1,1,7,2,2,4,6,3,5],3,[1,8,4,1,2,3,6,4,5,4,3,2,4,5,8,9],3,[2,6,5,9,8,6,2,6,3,7,3,1,6,8,6,7],2]\n",
    "\n",
    "board2 = [\n",
    "[1,1,2,2],0,1,\n",
    "[3,4,4,1],1,1,\n",
    "[5,3,5,1],1,1,\n",
    "[6,6,3,1],0,1,\n",
    "[2,4,5,3],1,3\n",
    "]\n",
    "\n",
    "board_3 = [[5,8,9,4,2,3],2,3,\n",
    "           [7,2,5,4,9,4],2,3,\n",
    "           [5,9,7,0,1,3],1,2,\n",
    "           [1,0,7,2,9,4],2,2]"
   ]
  },
  {
   "cell_type": "code",
   "execution_count": 23,
   "id": "0a0efd05",
   "metadata": {},
   "outputs": [
    {
     "name": "stdout",
     "output_type": "stream",
     "text": [
      "sat\n"
     ]
    },
    {
     "data": {
      "text/plain": [
       "[7, 8, 4, 2, 9, 3]"
      ]
     },
     "execution_count": 23,
     "metadata": {},
     "output_type": "execute_result"
    }
   ],
   "source": [
    "\n",
    "def mastermind21_aux(B,P,s):\n",
    "    \n",
    "    # One digit must be true per position:\n",
    "    for pos in range(len(P)):\n",
    "        s.add(Or(P[pos]))\n",
    "    # No more than one digit can be true per position:\n",
    "        for digit in range(10):\n",
    "            for i in range(digit+1,10):\n",
    "                s.add(Not(And(P[pos][digit],P[pos][i])))\n",
    "\n",
    "    code_len = len(B[0])\n",
    "    for i in range(0,len(B),3):\n",
    "\n",
    "        b_black = [P[j][B[i][j]] for j in range(code_len)]\n",
    "        k_black = B[i+1]\n",
    "\n",
    "        if k_black == 0:\n",
    "            s.add(Not(Or(b_black)))\n",
    "        elif k_black == code_len:\n",
    "            s.add(And(b_black))\n",
    "        else:\n",
    "            # At most k_black true\n",
    "            for subset in combinations(b_black, k_black + 1):\n",
    "                s.add(Not(And(subset)))\n",
    "            # At least k true\n",
    "            for subset in combinations(b_black, len(b_black) - k_black + 1):\n",
    "                s.add(Or(subset))\n",
    "        \n",
    "        b_white = [[P[l][B[i][j]] for l in range(code_len) if l != j] for j in range(code_len)]\n",
    "        k_white = B[i + 2]\n",
    "\n",
    "        # At most k_white \"white digits\"\n",
    "        for subset in list(combinations(b_white,k_white + 1)):\n",
    "            \n",
    "             s.add(Not(And([Or(x) for x in subset])))\n",
    "        \n",
    "\n",
    "        for subset in list(combinations(b_white,len(b_white) - k_white + 1)):\n",
    "          \n",
    "            s.add(Or([Or(x) for x in subset]))\n",
    "\n",
    "        \n",
    "\n",
    "\n",
    "    \n",
    "    solution = []\n",
    "    print(s.check())\n",
    "    if s.check() == sat:\n",
    "        m = s.model()\n",
    "        # Search boolean matrix for trues to present solution:\n",
    "        for pos in range(len(P)):\n",
    "            for digit in range(10):\n",
    "                if m[P[pos][digit]]:\n",
    "                    solution.append(digit)\n",
    "    else:\n",
    "        print('No solutions found')\n",
    "    \n",
    "\n",
    "    return solution\n",
    "\n",
    "\n",
    "\n",
    "\n",
    "P = [[Bool(f'p_{p}_{n}') for n in range(10)] for p in range (1,len(board_3[0])+1)]\n",
    "s = Solver()\n",
    "mastermind21_aux(board_3,P,s)"
   ]
  },
  {
   "cell_type": "code",
   "execution_count": 8,
   "id": "34503dddf141c542",
   "metadata": {
    "ExecuteTime": {
     "end_time": "2025-10-16T08:29:55.103275Z",
     "start_time": "2025-10-16T08:29:55.085571Z"
    }
   },
   "outputs": [],
   "source": [
    "def mastermind1_aux(B,P,s):\n",
    "\n",
    "    code_len = len(B[0])\n",
    "\n",
    "    # One digit must be true per position:\n",
    "    for pos in range(code_len):\n",
    "        s.add(Or(P[pos]))\n",
    "        # No more than one digit can be true per position:\n",
    "        for digit in range(10):\n",
    "            for i in range(digit+1,10):\n",
    "                s.add(Not(And(P[pos][digit],P[pos][i])))\n",
    "    for i in range(0,len(B),2):\n",
    "        b = [P[j][B[i][j]] for j in range(code_len)]\n",
    "        k = B[i+1]\n",
    "\n",
    "        if k == 0:\n",
    "            s.add(Not(Or(b)))\n",
    "        elif k == code_len:\n",
    "            s.add(And(b))\n",
    "        else:\n",
    "            # At most k true\n",
    "            for subset in combinations(b, k + 1):\n",
    "                s.add(Not(And(subset)))\n",
    "            # At least k true\n",
    "            for subset in combinations(b, len(b) - k + 1):\n",
    "                s.add(Or(subset))\n",
    "    print(\"formula built\")\n",
    "    if s.check() == sat:\n",
    "        m = s.model()\n",
    "        solution = []\n",
    "        # Search boolean matrix for trues to present solution:\n",
    "        for pos in range(len(P)):\n",
    "            for digit in range(10):\n",
    "                if m[P[pos][digit]]:\n",
    "                    solution.append(digit)\n",
    "        return solution\n",
    "        \n",
    "    else:\n",
    "        print('No solutions found')\n",
    "\n",
    "def mastermind1(B):\n",
    "    # px10 matrix of booleans where p is the number of positions/length of the sequence\n",
    "    P = [[Bool(f'p_{p}_{n}') for n in range(10)] for p in range (1,len(B[0])+1)]\n",
    "    s = Solver()\n",
    "    return mastermind1_aux(B,P,s)\n",
    "def unique_solution1(B):\n",
    "    # px10 matrix of booleans where p is the number of positions/length of the sequence\n",
    "    P = [[Bool(f'p_{p}_{n}') for n in range(10)] for p in range (1,len(B[0])+1)]\n",
    "    s = Solver()\n",
    "    solution = mastermind1_aux(B,P,s)\n",
    "    # Deny the solution given by mastermind1 in the model to see if it's unique:    \n",
    "    s.add(Not(And([P[pos][solution[pos]] for pos in range(len(P))]))) # negating the solution (i.e. conjunction of the propositions)\n",
    "    return s.check() == unsat and len(solution) > 0\n",
    "\n",
    "\n",
    "\n",
    "def mastermind2_aux(B,P,s):\n",
    "    \n",
    "    # One digit must be true per position:\n",
    "    for pos in range(len(P)):\n",
    "        s.add(Or(P[pos]))\n",
    "    # No more than one digit can be true per position:\n",
    "        for digit in range(10):\n",
    "            for i in range(digit+1,10):\n",
    "                s.add(Not(And(P[pos][digit],P[pos][i])))\n",
    "\n",
    "    for i in range(0,len(B),3):\n",
    "\n",
    "        comb_black = list(combinations(list(enumerate(B[i])),B[i + 1])) # List of tuples of length k, where k is the number of correct positions\n",
    "\n",
    "        aux = [] \n",
    "        posit = [x for x in range(len(B[i]))] # if this line doesn't exist, range(len(B[i])) will be called many times in loops\n",
    "       \n",
    "        for b in comb_black: # for every combination of possible correct positions\n",
    "            bval = [x[1] for x in b] # list of possible combinations of correctly positioned digits\n",
    "            bpos = [x[0] for x in b] # corresponding positions\n",
    "            W_avlbl = [x for x in list(enumerate(B[i])) if x not in b] # remove the current \"black combination\" from the attempt\n",
    "            comb_white = list(combinations(W_avlbl,B[i + 2])) # list of \"white combinations\", i.e. combinations of possible correct digits in wrong positions\n",
    "            \n",
    "            aux1 = []\n",
    "            for w in comb_white: # for every combination of possible correct digits in incorrect positions\n",
    "                wval = [x[1] for x in w] # list of \"white\" digit combinations, without their respective positions\n",
    "                pos_avlbl = [x for x in posit if x not in bpos] # list of available positions for the \"white\" digits\n",
    "                pos_for_w = list(permutations(pos_avlbl,B[i + 2])) # initial positions and permutations of possible positions (the initial positions weren't excluded yet)\n",
    "                w_pssbl = [] # list of possible combinations of the \"white\" digits inserted in possible positions\n",
    "                for x in pos_for_w:\n",
    "                    w_comb = [] # combination of \"white\" digits inserted in possible positions \n",
    "                    for k in range(len(w)):\n",
    "                        w_comb.append((x[k],w[k][1]))\n",
    "                    w_pssbl.append(w_comb)\n",
    "\n",
    "                other = [x for x in w] # complementary set, we start by excluding the possiblity of \"white\" digits being correct in their initial positions\n",
    "                other_n = [x for x in B[i] if x not in bval + wval] # all the digits that are not in the code, if the current \"black\" and \"white\" digits are\n",
    "                for p in posit: #these digits are incorrect in every position\n",
    "                    for n in other_n:\n",
    "                        other.append((p,n))\n",
    "                \n",
    "                for guess in w_pssbl:\n",
    "                    aux1.append(And(And([P[x[0]][x[1]] for x in guess]), Not(Or([P[x[0]][x[1]] for x in other]))))\n",
    "                    \n",
    "            aux.append(And(And([P[x[0]][x[1]] for x in b]), Or(aux1)))\n",
    "\n",
    "        s.add(Or(aux))\n",
    "    solution = []\n",
    "    if s.check() == sat:\n",
    "        m = s.model()\n",
    "        # Search boolean matrix for trues to present solution:\n",
    "        for pos in range(len(P)):\n",
    "            for digit in range(10):\n",
    "                if m[P[pos][digit]]:\n",
    "                    solution.append(digit)\n",
    "    else:\n",
    "        print('No solutions found')\n",
    "    \n",
    "    return solution\n",
    "\n",
    "\n",
    "\n",
    "\n",
    "\n",
    "def mastermind2(B):\n",
    "    # px10 matrix of booleans where p is the number of positions/length of the sequence\n",
    "    P = [[Bool(f'p_{p}_{n}') for n in range(10)] for p in range (1,len(B[0])+1)]\n",
    "    s = Solver()\n",
    "    solution = mastermind2_aux(B,P,s)\n",
    "    return solution \n",
    "\n",
    "def unique_solution2(B):\n",
    "    P = [[Bool(f'p_{p}_{n}') for n in range(10)] for p in range (1,len(B[0])+1)]\n",
    "    s = Solver()\n",
    "    solution = mastermind2_aux(B,P,s)\n",
    "    s.add(Not(And([P[pos][solution[pos]] for pos in range(len(P))]))) # negating the solution (i.e. conjunction of the propositions)\n",
    "    return s.check() == unsat and len(solution) > 0\n",
    "\n"
   ]
  },
  {
   "cell_type": "code",
   "execution_count": 9,
   "id": "6382ba63",
   "metadata": {},
   "outputs": [
    {
     "name": "stdout",
     "output_type": "stream",
     "text": [
      "sat\n",
      "Solution 1: [5, 2, 4, 3]\n",
      "Solution 2: [2, 3, 4, 5]\n",
      "Solution 3: [3, 2, 5, 4]\n"
     ]
    }
   ],
   "source": [
    "#find all solutions to board2\n",
    "\n",
    "P = [[Bool(f'p_{p}_{n}') for n in range(10)] for p in range (1,len(board2[0])+1)]\n",
    "s = Solver()\n",
    "solution = mastermind2_aux(board2,P,s)\n",
    "count = 0\n",
    "found = False\n",
    "print(s.check())\n",
    "while s.check() == sat:\n",
    "    m = s.model()\n",
    "    solution = []\n",
    "    # Search boolean matrix f   print(adds)or trues to present solution:\n",
    "    for pos in range(len(P)):\n",
    "        for digit in range(10):\n",
    "            if m[P[pos][digit]]:\n",
    "                solution.append(digit)\n",
    "    count += 1\n",
    "    print(f'Solution {count}: {solution}')\n",
    "    found = True\n",
    "    # Deny this solution in the model to search for others:\n",
    "    s.add(Not(And([P[pos][solution[pos]] for pos in range(len(P))])))"
   ]
  },
  {
   "cell_type": "code",
   "execution_count": 10,
   "id": "5bb868254987d11b",
   "metadata": {
    "ExecuteTime": {
     "end_time": "2025-10-16T08:29:55.205554Z",
     "start_time": "2025-10-16T08:29:55.110521Z"
    }
   },
   "outputs": [
    {
     "name": "stdout",
     "output_type": "stream",
     "text": [
      "formula built\n"
     ]
    },
    {
     "data": {
      "text/plain": [
       "[3, 9, 5, 4, 2]"
      ]
     },
     "execution_count": 10,
     "metadata": {},
     "output_type": "execute_result"
    }
   ],
   "source": [
    "mastermind1(board1)"
   ]
  },
  {
   "cell_type": "code",
   "execution_count": 11,
   "id": "a256fb6023fc058c",
   "metadata": {
    "ExecuteTime": {
     "end_time": "2025-10-16T08:29:55.322002Z",
     "start_time": "2025-10-16T08:29:55.228753Z"
    }
   },
   "outputs": [
    {
     "name": "stdout",
     "output_type": "stream",
     "text": [
      "formula built\n"
     ]
    },
    {
     "data": {
      "text/plain": [
       "True"
      ]
     },
     "execution_count": 11,
     "metadata": {},
     "output_type": "execute_result"
    }
   ],
   "source": [
    "unique_solution1(board1)"
   ]
  },
  {
   "cell_type": "code",
   "execution_count": 12,
   "id": "19317d76dd1f0c65",
   "metadata": {
    "ExecuteTime": {
     "end_time": "2025-10-16T08:30:38.220195Z",
     "start_time": "2025-10-16T08:29:55.344283Z"
    }
   },
   "outputs": [
    {
     "name": "stdout",
     "output_type": "stream",
     "text": [
      "formula built\n"
     ]
    },
    {
     "data": {
      "text/plain": [
       "[4, 6, 4, 0, 2, 6, 1, 5, 7, 1, 8, 4, 9, 5, 3, 3]"
      ]
     },
     "execution_count": 12,
     "metadata": {},
     "output_type": "execute_result"
    }
   ],
   "source": [
    "mastermind1(board)"
   ]
  },
  {
   "cell_type": "code",
   "execution_count": 13,
   "id": "bee9ce158d4f90d2",
   "metadata": {
    "ExecuteTime": {
     "end_time": "2025-10-16T08:31:14.137107Z",
     "start_time": "2025-10-16T08:30:38.250337Z"
    }
   },
   "outputs": [
    {
     "name": "stdout",
     "output_type": "stream",
     "text": [
      "formula built\n"
     ]
    },
    {
     "data": {
      "text/plain": [
       "True"
      ]
     },
     "execution_count": 13,
     "metadata": {},
     "output_type": "execute_result"
    }
   ],
   "source": [
    "unique_solution1(board)"
   ]
  },
  {
   "cell_type": "code",
   "execution_count": 14,
   "id": "3f33cc344fafd2a",
   "metadata": {
    "ExecuteTime": {
     "end_time": "2025-10-16T08:31:14.907109Z",
     "start_time": "2025-10-16T08:31:14.154025Z"
    }
   },
   "outputs": [
    {
     "data": {
      "text/plain": [
       "[3, 9, 5, 4, 2]"
      ]
     },
     "execution_count": 14,
     "metadata": {},
     "output_type": "execute_result"
    }
   ],
   "source": [
    "mastermind2(board12)"
   ]
  },
  {
   "cell_type": "code",
   "execution_count": 15,
   "id": "2dd5ba7386111cd3",
   "metadata": {
    "ExecuteTime": {
     "end_time": "2025-10-16T08:31:15.679564Z",
     "start_time": "2025-10-16T08:31:14.920597Z"
    }
   },
   "outputs": [
    {
     "data": {
      "text/plain": [
       "True"
      ]
     },
     "execution_count": 15,
     "metadata": {},
     "output_type": "execute_result"
    }
   ],
   "source": [
    "unique_solution2(board12)"
   ]
  },
  {
   "cell_type": "code",
   "execution_count": 16,
   "id": "b1e0f5cfbe176176",
   "metadata": {
    "ExecuteTime": {
     "end_time": "2025-10-16T08:31:15.785566Z",
     "start_time": "2025-10-16T08:31:15.693069Z"
    }
   },
   "outputs": [
    {
     "data": {
      "text/plain": [
       "[3, 2, 5, 4]"
      ]
     },
     "execution_count": 16,
     "metadata": {},
     "output_type": "execute_result"
    }
   ],
   "source": [
    "mastermind2(board2)"
   ]
  },
  {
   "cell_type": "code",
   "execution_count": 17,
   "id": "c6bf1b5c91d9d526",
   "metadata": {
    "ExecuteTime": {
     "end_time": "2025-10-16T08:31:15.897231Z",
     "start_time": "2025-10-16T08:31:15.799971Z"
    }
   },
   "outputs": [
    {
     "data": {
      "text/plain": [
       "False"
      ]
     },
     "execution_count": 17,
     "metadata": {},
     "output_type": "execute_result"
    }
   ],
   "source": [
    "unique_solution2(board2)"
   ]
  },
  {
   "cell_type": "code",
   "execution_count": 18,
   "id": "c2ca83d7",
   "metadata": {},
   "outputs": [
    {
     "data": {
      "text/plain": [
       "[5, 8, 2, 7, 9, 4]"
      ]
     },
     "execution_count": 18,
     "metadata": {},
     "output_type": "execute_result"
    }
   ],
   "source": [
    "mastermind2(board_3)"
   ]
  },
  {
   "cell_type": "code",
   "execution_count": 19,
   "id": "1d146f4e",
   "metadata": {},
   "outputs": [
    {
     "data": {
      "text/plain": [
       "False"
      ]
     },
     "execution_count": 19,
     "metadata": {},
     "output_type": "execute_result"
    }
   ],
   "source": [
    "unique_solution2(board_3)"
   ]
  }
 ],
 "metadata": {
  "kernelspec": {
   "display_name": "base",
   "language": "python",
   "name": "python3"
  },
  "language_info": {
   "codemirror_mode": {
    "name": "ipython",
    "version": 3
   },
   "file_extension": ".py",
   "mimetype": "text/x-python",
   "name": "python",
   "nbconvert_exporter": "python",
   "pygments_lexer": "ipython3",
   "version": "3.9.13"
  }
 },
 "nbformat": 4,
 "nbformat_minor": 5
}
