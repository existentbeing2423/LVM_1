{
 "cells": [
  {
   "cell_type": "code",
   "execution_count": 19,
   "id": "initial_id",
   "metadata": {
    "ExecuteTime": {
     "end_time": "2025-10-08T15:04:32.119908Z",
     "start_time": "2025-10-08T15:04:31.991298Z"
    }
   },
   "outputs": [],
   "source": [
    "from z3 import *\n",
    "from itertools import combinations"
   ]
  },
  {
   "cell_type": "code",
   "execution_count": null,
   "id": "9f7e4acbb17a9383",
   "metadata": {
    "ExecuteTime": {
     "end_time": "2025-10-08T15:36:38.400337Z",
     "start_time": "2025-10-08T15:36:38.394919Z"
    }
   },
   "outputs": [],
   "source": [
    "board=[[5,8,6,3,4],0,[7,1,6,1,8],0,[9,7,3,2,1],1]"
   ]
  },
  {
   "cell_type": "code",
   "execution_count": 21,
   "id": "d625cccaabdbab83",
   "metadata": {
    "ExecuteTime": {
     "end_time": "2025-10-08T15:17:26.006140Z",
     "start_time": "2025-10-08T15:17:25.998068Z"
    }
   },
   "outputs": [],
   "source": [
    "board=[[9,0,3,4,2],2,[7,0,7,9,4],0,[3,9,4,5,8],2,[3,4,1,0,9],1,[5,1,5,4,5],2,[1,2,5,3,1],1]"
   ]
  },
  {
   "cell_type": "code",
   "execution_count": 22,
   "id": "59ea9b0d5c1b3f18",
   "metadata": {
    "ExecuteTime": {
     "end_time": "2025-10-08T15:37:00.291693Z",
     "start_time": "2025-10-08T15:37:00.278128Z"
    }
   },
   "outputs": [],
   "source": [
    "board=[[5,6,1,6,1,8,5,6,5,0,5,1,8,2,9,3],2,[3,8,4,7,4,3,9,6,4,7,2,9,3,0,4,7],1,[5,8,5,5,4,6,2,9,4,0,8,1,0,5,8,7],3,[9,7,4,2,8,5,5,5,0,7,0,6,8,3,5,3],3,[4,2,9,6,8,4,9,6,4,3,6,0,7,5,4,3],3,[3,1,7,4,2,4,8,4,3,9,4,6,5,8,5,8],1,[4,5,1,3,5,5,9,0,9,4,1,4,6,1,1,7],2,[7,8,9,0,9,7,1,5,4,8,9,0,8,0,6,7],3,[8,1,5,7,3,5,6,3,4,4,1,1,8,4,8,3],1,[2,6,1,5,2,5,0,7,4,4,3,8,6,8,9,9],2,[8,6,9,0,0,9,5,8,5,1,5,2,6,2,5,4],3,[6,3,7,5,7,1,1,9,1,5,0,7,7,0,5,0],1,[6,9,1,3,8,5,9,1,7,3,1,2,1,3,6,0],1,[6,4,4,2,8,8,9,0,5,5,0,4,2,7,6,8],2,[2,3,2,1,3,8,6,1,0,4,3,0,3,8,4,5],0,[2,3,2,6,5,0,9,4,7,1,2,7,1,4,4,8],2,[5,2,5,1,5,8,3,3,7,9,6,4,4,3,2,2],2,[1,7,4,8,2,7,0,4,7,6,7,5,8,2,7,6],3,[4,8,9,5,7,2,2,6,5,2,1,9,0,3,0,6],1,[3,0,4,1,6,3,1,1,1,7,2,2,4,6,3,5],3,[1,8,4,1,2,3,6,4,5,4,3,2,4,5,8,9],3,[2,6,5,9,8,6,2,6,3,7,3,1,6,8,6,7],2]"
   ]
  },
  {
   "cell_type": "code",
   "execution_count": null,
   "id": "34503dddf141c542",
   "metadata": {
    "ExecuteTime": {
     "end_time": "2025-10-08T15:38:52.021128Z",
     "start_time": "2025-10-08T15:37:02.637002Z"
    }
   },
   "outputs": [],
   "source": [
    "def mastermind1(B):\n",
    "    # px10 matrix of booleans where p is the number of positions/length of the sequence\n",
    "    P = [[Bool(f'p_{p}_{n}') for n in range(10)] for p in range (1,len(B[0])+1)]\n",
    "    s = Solver()\n",
    "    # One digit must be true per position:\n",
    "    for pos in range(len(P)):\n",
    "        s.add(Or(P[pos]))\n",
    "        # No more than one digit can be true per position:\n",
    "        for digit in range(10):\n",
    "            for i in range(digit+1,10):\n",
    "                s.add(Not(And(P[pos][digit],P[pos][i])))\n",
    "    for i in range(0,len(B),2):\n",
    "        b = [] # List of relevant booleans for the current line of the board\n",
    "        aux = []\n",
    "        for j in range(len(B[i])):\n",
    "            b.append(P[j][B[i][j]])\n",
    "        if B[i+1] == 0:\n",
    "            s.add(Not(Or(b))) # These variables must necessarily be false since no position was correct\n",
    "        else:\n",
    "            comb = list(combinations(b,B[i+1])) # List of tuples of length k, where k is the number of correct positions\n",
    "            for tuples in comb:\n",
    "                other = [ x for x in b if x not in tuples ] # Complement set of current tuple\n",
    "                aux.append(And(And(tuples),Not((Or(other))))) # If current tuple is true, all other numbers are false\n",
    "            s.add(Or(aux)) # One of the previous conditions must hold from the set of all tuples\n",
    "    print('Finding all solutions...')\n",
    "    count = 0\n",
    "    found = False\n",
    "    while s.check() == sat:\n",
    "        m = s.model()\n",
    "        solution = []\n",
    "        # Search boolean matrix for trues to present solution:\n",
    "        for pos in range(len(P)):\n",
    "            for digit in range(10):\n",
    "                if m[P[pos][digit]]:\n",
    "                    solution.append(digit)\n",
    "        count += 1\n",
    "        print(f'Solution {count}: {solution}')\n",
    "        found = True\n",
    "        # Deny this solution in the model to search for others:\n",
    "        for pos in range(len(P)):\n",
    "            s.add(Not(P[pos][solution[pos]]))\n",
    "    if found == False:\n",
    "        print('No solutions found')\n",
    "\n",
    "\n",
    "def unique_solution1(B):\n",
    "    \n",
    "\n"
   ]
  },
  {
   "cell_type": "code",
   "execution_count": null,
   "id": "bec3e5e9376e3315",
   "metadata": {},
   "outputs": [],
   "source": []
  }
 ],
 "metadata": {
  "kernelspec": {
   "display_name": "Python 3",
   "language": "python",
   "name": "python3"
  },
  "language_info": {
   "codemirror_mode": {
    "name": "ipython",
    "version": 2
   },
   "file_extension": ".py",
   "mimetype": "text/x-python",
   "name": "python",
   "nbconvert_exporter": "python",
   "pygments_lexer": "ipython2",
   "version": "2.7.6"
  }
 },
 "nbformat": 4,
 "nbformat_minor": 5
}
