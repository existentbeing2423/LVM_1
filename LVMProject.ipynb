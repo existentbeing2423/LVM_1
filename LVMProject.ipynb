{
 "cells": [
  {
   "cell_type": "code",
   "id": "initial_id",
   "metadata": {
    "ExecuteTime": {
     "end_time": "2025-10-08T11:48:55.272225Z",
     "start_time": "2025-10-08T11:48:55.209818Z"
    }
   },
   "source": [
    "from z3 import *\n",
    "from itertools import combinations"
   ],
   "outputs": [],
   "execution_count": 3
  },
  {
   "metadata": {
    "ExecuteTime": {
     "end_time": "2025-10-08T05:22:51.581574Z",
     "start_time": "2025-10-08T05:22:51.574775Z"
    }
   },
   "cell_type": "code",
   "source": "board=[[1,0,6,9,7],1,[1,2,8,5,4],2,[1,2,3,6,9],3,[1,2,3,4,1],4,[6,7,8,2,1],0,[9,2,3,0,8],2]",
   "id": "872a87321942b914",
   "outputs": [],
   "execution_count": 29
  },
  {
   "metadata": {
    "ExecuteTime": {
     "end_time": "2025-10-08T05:36:16.715908Z",
     "start_time": "2025-10-08T05:36:16.708002Z"
    }
   },
   "cell_type": "code",
   "source": "board=[[1,0,6,9,7],1,[1,2,8,5,4],2,[1,2,3,6,9],3,[1,2,3,4,1],4,[5,4,3,2,1],0]",
   "id": "612d990100185131",
   "outputs": [],
   "execution_count": 35
  },
  {
   "metadata": {},
   "cell_type": "code",
   "source": "board=[[9,0,3,4,2],2,[7,0,7,9,4],0,[3,9,4,5,8],2,[3,4,1,0,9],1,[5,1,5,4,5],2,[1,2,5,3,1],1]",
   "id": "d625cccaabdbab83",
   "execution_count": null,
   "outputs": []
  },
  {
   "metadata": {
    "ExecuteTime": {
     "end_time": "2025-10-08T11:48:57.914023Z",
     "start_time": "2025-10-08T11:48:57.901052Z"
    }
   },
   "cell_type": "code",
   "source": "board=[[5,6,1,6,1,8,5,6,5,0,5,1,8,2,9,3],2,[3,8,4,7,4,3,9,6,4,7,2,9,3,0,4,7],1,[5,8,5,5,4,6,2,9,4,0,8,1,0,5,8,7],3,[9,7,4,2,8,5,5,5,0,7,0,6,8,3,5,3],3,[4,2,9,6,8,4,9,6,4,3,6,0,7,5,4,3],3,[3,1,7,4,2,4,8,4,3,9,4,6,5,8,5,8],1,[4,5,1,3,5,5,9,0,9,4,1,4,6,1,1,7],2,[7,8,9,0,9,7,1,5,4,8,9,0,8,0,6,7],3,[8,1,5,7,3,5,6,3,4,4,1,1,8,4,8,3],1,[2,6,1,5,2,5,0,7,4,4,3,8,6,8,9,9],2,[8,6,9,0,0,9,5,8,5,1,5,2,6,2,5,4],3,[6,3,7,5,7,1,1,9,1,5,0,7,7,0,5,0],1,[6,9,1,3,8,5,9,1,7,3,1,2,1,3,6,0],1,[6,4,4,2,8,8,9,0,5,5,0,4,2,7,6,8],2,[2,3,2,1,3,8,6,1,0,4,3,0,3,8,4,5],0,[2,3,2,6,5,0,9,4,7,1,2,7,1,4,4,8],2,[5,2,5,1,5,8,3,3,7,9,6,4,4,3,2,2],2,[1,7,4,8,2,7,0,4,7,6,7,5,8,2,7,6],3,[4,8,9,5,7,2,2,6,5,2,1,9,0,3,0,6],1,[3,0,4,1,6,3,1,1,1,7,2,2,4,6,3,5],3,[1,8,4,1,2,3,6,4,5,4,3,2,4,5,8,9],3,[2,6,5,9,8,6,2,6,3,7,3,1,6,8,6,7],2]",
   "id": "59ea9b0d5c1b3f18",
   "outputs": [],
   "execution_count": 4
  },
  {
   "metadata": {
    "ExecuteTime": {
     "end_time": "2025-10-08T11:50:32.431027Z",
     "start_time": "2025-10-08T11:49:00.129003Z"
    }
   },
   "cell_type": "code",
   "source": [
    "P = [[Bool(f'p_{p}_{n}') for n in range(10)] for p in range (1,len(board[0])+1)]\n",
    "s = Solver()\n",
    "for i in range(len(P)):\n",
    "    s.add(Or(P[i]))\n",
    "    for j in range(10):\n",
    "        for k in range(j+1,10):\n",
    "            s.add(Not(And(P[i][j],P[i][k])))\n",
    "for i in range(0,len(board),2):\n",
    "    b = []\n",
    "    aux = []\n",
    "    for j in range(len(board[i])):\n",
    "        b.append(P[j][board[i][j]])\n",
    "    if board[i+1] == 0:\n",
    "        s.add(Not(Or(b)))\n",
    "    else:\n",
    "        comb = list(combinations(b,board[i+1]))\n",
    "        for tuples in comb:\n",
    "            other = [ x for x in b if x not in tuples ]\n",
    "            aux.append(And(And(tuples),Not((Or(other)))))\n",
    "        s.add(Or(aux))\n",
    "print(\"Finding all solutions...\")\n",
    "count = 1\n",
    "found = False\n",
    "while s.check() == sat:\n",
    "    m = s.model()\n",
    "    solution = []\n",
    "    for pos in range(len(P)):\n",
    "        for digit in range(10):\n",
    "            if m[P[pos][digit]]:\n",
    "                solution.append(digit)\n",
    "    print(f\"Solution {count}: {solution}\")\n",
    "    count += 1\n",
    "    found = True\n",
    "    for pos in range(len(P)):\n",
    "        s.add(Not(P[pos][solution[pos]]))\n",
    "if found == False:\n",
    "    print(\"No solutions found\")"
   ],
   "id": "34503dddf141c542",
   "outputs": [
    {
     "name": "stdout",
     "output_type": "stream",
     "text": [
      "Finding all solutions...\n",
      "Solution 1: [4, 6, 4, 0, 2, 6, 1, 5, 7, 1, 8, 4, 9, 5, 3, 3]\n"
     ]
    }
   ],
   "execution_count": 5
  },
  {
   "metadata": {},
   "cell_type": "code",
   "outputs": [],
   "execution_count": null,
   "source": "",
   "id": "bec3e5e9376e3315"
  }
 ],
 "metadata": {
  "kernelspec": {
   "display_name": "Python 3",
   "language": "python",
   "name": "python3"
  },
  "language_info": {
   "codemirror_mode": {
    "name": "ipython",
    "version": 2
   },
   "file_extension": ".py",
   "mimetype": "text/x-python",
   "name": "python",
   "nbconvert_exporter": "python",
   "pygments_lexer": "ipython2",
   "version": "2.7.6"
  }
 },
 "nbformat": 4,
 "nbformat_minor": 5
}
