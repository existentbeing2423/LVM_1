{
 "cells": [
  {
   "cell_type": "code",
   "execution_count": 534,
   "id": "initial_id",
   "metadata": {
    "ExecuteTime": {
     "end_time": "2025-10-09T21:01:57.553846Z",
     "start_time": "2025-10-09T21:01:57.498127Z"
    }
   },
   "outputs": [],
   "source": [
    "from z3 import *\n",
    "from itertools import combinations, permutations, product"
   ]
  },
  {
   "cell_type": "code",
   "execution_count": null,
   "id": "37e4896a",
   "metadata": {},
   "outputs": [],
   "source": []
  },
  {
   "cell_type": "code",
   "execution_count": 535,
   "id": "9f7e4acbb17a9383",
   "metadata": {
    "ExecuteTime": {
     "end_time": "2025-10-09T21:01:59.386341Z",
     "start_time": "2025-10-09T21:01:59.382458Z"
    }
   },
   "outputs": [],
   "source": [
    "board=[[5,8,6,3,4],0,[7,1,6,1,8],0,[9,7,3,2,1],1]"
   ]
  },
  {
   "cell_type": "code",
   "execution_count": 536,
   "id": "d625cccaabdbab83",
   "metadata": {
    "ExecuteTime": {
     "end_time": "2025-10-09T21:02:00.912964Z",
     "start_time": "2025-10-09T21:02:00.908950Z"
    }
   },
   "outputs": [],
   "source": [
    "board1=[[9,0,3,4,2],2,[7,0,7,9,4],0,[3,9,4,5,8],2,[3,4,1,0,9],1,[5,1,5,4,5],2,[1,2,5,3,1],1]"
   ]
  },
  {
   "cell_type": "code",
   "execution_count": 537,
   "id": "7fb8cbd2977f8634",
   "metadata": {
    "ExecuteTime": {
     "end_time": "2025-10-09T21:02:00.919041Z",
     "start_time": "2025-10-09T21:02:00.914729Z"
    }
   },
   "outputs": [],
   "source": [
    "board12=[[9,0,3,4,2],2,2,\n",
    "         [7,0,7,9,4],0,2,\n",
    "         [3,9,4,5,8],2,2,\n",
    "         [3,4,1,0,9],1,2,\n",
    "         [5,1,5,4,5],2,0,\n",
    "         [1,2,5,3,1],1,2] "
   ]
  },
  {
   "cell_type": "code",
   "execution_count": 538,
   "id": "59ea9b0d5c1b3f18",
   "metadata": {
    "ExecuteTime": {
     "end_time": "2025-10-09T21:02:01.300129Z",
     "start_time": "2025-10-09T21:02:01.290413Z"
    }
   },
   "outputs": [],
   "source": [
    "board=[[5,6,1,6,1,8,5,6,5,0,5,1,8,2,9,3],2,[3,8,4,7,4,3,9,6,4,7,2,9,3,0,4,7],1,[5,8,5,5,4,6,2,9,4,0,8,1,0,5,8,7],3,[9,7,4,2,8,5,5,5,0,7,0,6,8,3,5,3],3,[4,2,9,6,8,4,9,6,4,3,6,0,7,5,4,3],3,[3,1,7,4,2,4,8,4,3,9,4,6,5,8,5,8],1,[4,5,1,3,5,5,9,0,9,4,1,4,6,1,1,7],2,[7,8,9,0,9,7,1,5,4,8,9,0,8,0,6,7],3,[8,1,5,7,3,5,6,3,4,4,1,1,8,4,8,3],1,[2,6,1,5,2,5,0,7,4,4,3,8,6,8,9,9],2,[8,6,9,0,0,9,5,8,5,1,5,2,6,2,5,4],3,[6,3,7,5,7,1,1,9,1,5,0,7,7,0,5,0],1,[6,9,1,3,8,5,9,1,7,3,1,2,1,3,6,0],1,[6,4,4,2,8,8,9,0,5,5,0,4,2,7,6,8],2,[2,3,2,1,3,8,6,1,0,4,3,0,3,8,4,5],0,[2,3,2,6,5,0,9,4,7,1,2,7,1,4,4,8],2,[5,2,5,1,5,8,3,3,7,9,6,4,4,3,2,2],2,[1,7,4,8,2,7,0,4,7,6,7,5,8,2,7,6],3,[4,8,9,5,7,2,2,6,5,2,1,9,0,3,0,6],1,[3,0,4,1,6,3,1,1,1,7,2,2,4,6,3,5],3,[1,8,4,1,2,3,6,4,5,4,3,2,4,5,8,9],3,[2,6,5,9,8,6,2,6,3,7,3,1,6,8,6,7],2]\n",
    "\n",
    "board2 = [\n",
    "[1,1,2,2],0,1,\n",
    "[3,4,4,1],1,1,\n",
    "[5,3,5,1],1,1,\n",
    "[6,6,3,1],0,1,\n",
    "[2,4,5,3],1,3\n",
    "]"
   ]
  },
  {
   "cell_type": "code",
   "execution_count": 539,
   "id": "34503dddf141c542",
   "metadata": {
    "ExecuteTime": {
     "end_time": "2025-10-09T21:02:10.700877Z",
     "start_time": "2025-10-09T21:02:10.470258Z"
    }
   },
   "outputs": [
    {
     "name": "stdout",
     "output_type": "stream",
     "text": [
      "Finding a solution...\n",
      "Solution 0: [3, 9, 5, 4, 2]\n"
     ]
    },
    {
     "data": {
      "text/plain": [
       "True"
      ]
     },
     "execution_count": 539,
     "metadata": {},
     "output_type": "execute_result"
    }
   ],
   "source": [
    "def mastermind1_aux(B):\n",
    "    # px10 matrix of booleans where p is the number of positions/length of the sequence\n",
    "    P = [[Bool(f'p_{p}_{n}') for n in range(10)] for p in range (1,len(B[0])+1)]\n",
    "    s = Solver()\n",
    "    # One digit must be true per position:\n",
    "    for pos in range(len(P)):\n",
    "        s.add(Or(P[pos]))\n",
    "        # No more than one digit can be true per position:\n",
    "        for digit in range(10):\n",
    "            for i in range(digit+1,10):\n",
    "                s.add(Not(And(P[pos][digit],P[pos][i])))\n",
    "    for i in range(0,len(B),2):\n",
    "        b = [] # List of relevant booleans for the current line of the board\n",
    "        aux = []\n",
    "        for j in range(len(B[i])):\n",
    "            b.append(P[j][B[i][j]])\n",
    "        if B[i+1] == 0:\n",
    "            s.add(Not(Or(b))) # These variables must necessarily be false since no position was correct\n",
    "        else:\n",
    "            comb = list(combinations(b,B[i+1])) # List of tuples of length k, where k is the number of correct positions\n",
    "            for tuples in comb:\n",
    "                other = [ x for x in b if x not in tuples ] # Complement set of current tuple\n",
    "                aux.append(And(And(tuples),Not((Or(other))))) # If current tuple is true, all other numbers are false\n",
    "            s.add(Or(aux)) # One of the previous conditions must hold from the set of all tuples\n",
    "    print('Finding a solution ...')\n",
    "    count = 0\n",
    "    #found = False\n",
    "    if s.check() == sat:\n",
    "        m = s.model()\n",
    "        solution = []\n",
    "        # Search boolean matrix for trues to present solution:\n",
    "        for pos in range(len(P)):\n",
    "            for digit in range(10):\n",
    "                if m[P[pos][digit]]:\n",
    "                    solution.append(digit)\n",
    "        count += 1\n",
    "        print(f'Solution {count}: {solution}')\n",
    "     #   found = True\n",
    "        return [s,P,solution]\n",
    "        \n",
    "    else:\n",
    "        print('No solutions found')\n",
    "\n",
    "def mastermind1(B):\n",
    "    return mastermind1_aux(B)[2]\n",
    "def unique_solution1(B):\n",
    "    R = mastermind1_aux(B)\n",
    "    S = R[0]\n",
    "    P = R[1]\n",
    "    solution = R[2]\n",
    "    # Deny the solution given by mastermind1 in the model to see if it's unique:\n",
    "    for pos in range(len(P)):\n",
    "            S.add(Not(P[pos][solution[pos]]))\n",
    "    return S.check() == unsat\n",
    "    \n",
    "\n",
    "#unique_solution1(board1)   \n",
    "\n",
    "\n",
    "def mastermind2_aux(B,P,s):\n",
    "    \n",
    "    # One digit must be true per position:\n",
    "    for pos in range(len(P)):\n",
    "        s.add(Or(P[pos]))\n",
    "    # No more than one digit can be true per position:\n",
    "        for digit in range(10):\n",
    "            for i in range(digit+1,10):\n",
    "                s.add(Not(And(P[pos][digit],P[pos][i])))\n",
    "\n",
    "    for i in range(0,len(B),3):\n",
    "\n",
    "        comb_black = list(combinations(list(enumerate(B[i])),B[i + 1])) # List of tuples of length k, where k is the number of correct positions\n",
    "        \n",
    "        \n",
    "        aux = [] \n",
    "        posit = [x for x in range(len(B[i]))] # if this line doesn't exist, range(len(B[i])) will be called many times in loops\n",
    "       \n",
    "        for b in comb_black: # for every combination of possible correct positions\n",
    "            bval = [x[1] for x in b] # list of possible combinations of correctly posistioned digits\n",
    "            bpos = [x[0] for x in b] # corresponding positions\n",
    "            W_avlbl = [x for x in list(enumerate(B[i])) if x not in b] # remove the current \"black combination\" from the attempt\n",
    "            comb_white = list(combinations(W_avlbl,B[i + 2])) # list of \"white combinations\", i.e. combinations of possible correct digits in wrong positions\n",
    "            \n",
    "            aux1 = []\n",
    "            for w in comb_white: # for every combination of possible correct digits in incorrect positions\n",
    "                wval = [x[1] for x in w] # list of \"white\" digit combinations, without their respective positions\n",
    "                pos_avlbl = [x for x in posit if x not in bpos] # list of available positions for the \"white\" digits\n",
    "                pos_for_w = list(permutations(pos_avlbl,B[i + 2])) # initial positions and permutations of possible positions (the initial positions weren't excluded yet)\n",
    "                w_pssbl = [] # list of possible combinations of the \"white\" digits inserted in possible positions\n",
    "                for x in pos_for_w:\n",
    "                    w_comb = [] # combination of \"white\" digits inserted in possible positions \n",
    "                    for k in range(len(w)):\n",
    "                        w_comb.append((x[k],w[k][1]))\n",
    "                    w_pssbl.append(w_comb)\n",
    "\n",
    "                other = [x for x in w] # complementary set, we start by excluding the possiblity of \"white\" digits being correct in their initial positions\n",
    "                other_n = [x for x in B[i] if x not in bval + wval] # all the digits that are not in the code, if the current \"black\" and \"white\" digits are\n",
    "                for p in posit: #these digits are incorrect in every position\n",
    "                    for n in other_n:\n",
    "                        other.append((p,n))\n",
    "                \n",
    "                for guess in w_pssbl:\n",
    "                    aux1.append(And(And([P[x[0]][x[1]] for x in guess]), Not(Or([P[x[0]][x[1]] for x in other]))))\n",
    "                    #aux1.append(And([P[x[0]][x[1]] for x in w1]))\n",
    "                    \n",
    "                \n",
    "            aux.append(And(And([P[x[0]][x[1]] for x in b]), Or(aux1)))\n",
    "            #aux.append(And([P[x[0]][x[1]] for x in b]))\n",
    "            #aux.append(Or(aux1))\n",
    "\n",
    "     \n",
    "        s.add(Or(aux))\n",
    "    print('Finding a solution...')\n",
    "\n",
    "    #found = False\n",
    "\n",
    "    count = 0\n",
    "    solution = []\n",
    "    if s.check() == sat:\n",
    "        m = s.model()\n",
    "        # Search boolean matrix for trues to present solution:\n",
    "        for pos in range(len(P)):\n",
    "            for digit in range(10):\n",
    "                if m[P[pos][digit]]:\n",
    "                    solution.append(digit)\n",
    "        print(f'Solution {count}: {solution}')\n",
    "     #   found = True\n",
    "        \n",
    "    else:\n",
    "        print('No solutions found')\n",
    "    \n",
    "    return solution\n",
    "    \"\"\"  print('Finding all solutions...')\n",
    "    count = 0\n",
    "    found = False\n",
    "    print(s.check())\n",
    "    while s.check() == sat:\n",
    "        m = s.model()\n",
    "        solution = []\n",
    "        # Search boolean matrix f   print(adds)or trues to present solution:\n",
    "        for pos in range(len(P)):\n",
    "            for digit in range(10):\n",
    "                if m[P[pos][digit]]:\n",
    "                    solution.append(digit)\n",
    "        count += 1\n",
    "        print(f'Solution {count}: {solution}')\n",
    "        found = True\n",
    "        # Deny this solution in the model to search for others:\n",
    "        for pos in range(len(P)):\n",
    "            s.add(Not(P[pos][solution[pos]]))\n",
    "    if found == False:\n",
    "        print('No solutions found')\"\"\"\n",
    "\n",
    "def mastermind2(B):\n",
    "    # px10 matrix of booleans where p is the number of positions/length of the sequence\n",
    "    P = [[Bool(f'p_{p}_{n}') for n in range(10)] for p in range (1,len(B[0])+1)]\n",
    "    s = Solver()\n",
    "    solution = mastermind2_aux(B,P,s)\n",
    "    return solution \n",
    "\n",
    "def unique_solution2(B):\n",
    "    P = [[Bool(f'p_{p}_{n}') for n in range(10)] for p in range (1,len(B[0])+1)]\n",
    "    s = Solver()\n",
    "    solution = mastermind2_aux(B,P,s)\n",
    "    s1 = s\n",
    "    for pos in range(len(P)):\n",
    "        s1.add(Not(P[pos][solution[pos]]))\n",
    "    return s1.check() == unsat and len(solution) > 0\n",
    "    \n",
    "unique_solution2(board12)   "
   ]
  },
  {
   "cell_type": "code",
   "execution_count": 540,
   "id": "bec3e5e9376e3315",
   "metadata": {},
   "outputs": [
    {
     "ename": "NameError",
     "evalue": "name 'P' is not defined",
     "output_type": "error",
     "traceback": [
      "\u001b[0;31m---------------------------------------------------------------------------\u001b[0m",
      "\u001b[0;31mNameError\u001b[0m                                 Traceback (most recent call last)",
      "Cell \u001b[0;32mIn[540], line 6\u001b[0m\n\u001b[1;32m      4\u001b[0m aux \u001b[38;5;241m=\u001b[39m []\n\u001b[1;32m      5\u001b[0m \u001b[38;5;28;01mfor\u001b[39;00m j \u001b[38;5;129;01min\u001b[39;00m \u001b[38;5;28mrange\u001b[39m(\u001b[38;5;28mlen\u001b[39m(board[i])):\n\u001b[0;32m----> 6\u001b[0m     b\u001b[38;5;241m.\u001b[39mappend(\u001b[43mP\u001b[49m[j][board[i][j]])\n\u001b[1;32m      7\u001b[0m \u001b[38;5;28;01mif\u001b[39;00m board[i\u001b[38;5;241m+\u001b[39m\u001b[38;5;241m1\u001b[39m]\u001b[38;5;241m==\u001b[39m\u001b[38;5;241m0\u001b[39m:\n\u001b[1;32m      8\u001b[0m     \u001b[38;5;28;01mif\u001b[39;00m board[i\u001b[38;5;241m+\u001b[39m\u001b[38;5;241m2\u001b[39m] \u001b[38;5;241m==\u001b[39m \u001b[38;5;241m0\u001b[39m:\n\u001b[1;32m      9\u001b[0m         \u001b[38;5;66;03m# None of the proposed numbers can be true, regardless of position:\u001b[39;00m\n",
      "\u001b[0;31mNameError\u001b[0m: name 'P' is not defined"
     ]
    }
   ],
   "source": [
    "#rabiscos e apêndic(it)es:\n",
    "for i in range(0,len(board),3):\n",
    "    b = [] # List of relevant booleans for the current line of the board\n",
    "    aux = []\n",
    "    for j in range(len(board[i])):\n",
    "        b.append(P[j][board[i][j]])\n",
    "    if board[i+1]==0:\n",
    "        if board[i+2] == 0:\n",
    "            # None of the proposed numbers can be true, regardless of position:\n",
    "            for row in range(len(P)):\n",
    "                aux.append(P[row][board[i][row]])\n",
    "            s.add(Not(Or(aux)))\n",
    "        else:\n",
    "            combswap = list(combinations(list(enumerate(board[i])),board[i+2]))\n",
    "            #s.add(Not(Or(b)))\n",
    "            for tuples in combswap:\n",
    "                keep=[]\n",
    "                swap=[]\n",
    "                possible=list(permutations(list(enumerate(board[i])),board[i+2]))\n",
    "                for k in range(len(tuples)):\n",
    "                    for move in range(len(possible)-1,-1,-1):\n",
    "                        if possible[move][k] == tuples[k]:\n",
    "                            possible.pop(move)\n",
    "                    keep.append(P[tuples[k][0]][tuples[k][1]])\n",
    "                for groups in possible:\n",
    "                    for h in range(len(groups)):\n",
    "                        swap.append(P[groups[h][0]][tuples[h][1]])\n",
    "                aux.append(And(Not(Or(keep)),And(swap)))\n",
    "            s.add(Or(aux))\n",
    "s.check()\n",
    "\n",
    "\n",
    "\n",
    "\n",
    "\n",
    "\n",
    "#    elif board[i+2] == 0:\n",
    "#        comb = list(combinations(b,board[i+1]))\n",
    "#        for tuples in comb:\n",
    "#            other = [ x for x in b if x not in tuples ] # Complement set of current tuple\n",
    "#            aux.append(And(And(tuples),Not((Or(other))))) # If current tuple is true, all other numbers are false\n",
    "#        s.add(Or(aux)) # One of the previous conditions must hold from the set of all tuples\n",
    "#    else:\n",
    "#        combc = list(combinations(list(enumerate(board[i])),board[i+1]))\n",
    "#        combs = list(combinations(list(enumerate(board[i])),board[i+2]))\n",
    "#        print('C:',combc)\n",
    "#        print('S:',combs)"
   ]
  }
 ],
 "metadata": {
  "kernelspec": {
   "display_name": "base",
   "language": "python",
   "name": "python3"
  },
  "language_info": {
   "codemirror_mode": {
    "name": "ipython",
    "version": 3
   },
   "file_extension": ".py",
   "mimetype": "text/x-python",
   "name": "python",
   "nbconvert_exporter": "python",
   "pygments_lexer": "ipython3",
   "version": "3.9.13"
  }
 },
 "nbformat": 4,
 "nbformat_minor": 5
}
