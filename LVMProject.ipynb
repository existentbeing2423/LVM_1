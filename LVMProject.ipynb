{
 "cells": [
  {
   "cell_type": "code",
   "id": "initial_id",
   "metadata": {
    "ExecuteTime": {
     "end_time": "2025-10-09T21:01:57.553846Z",
     "start_time": "2025-10-09T21:01:57.498127Z"
    }
   },
   "source": [
    "from z3 import *\n",
    "from itertools import combinations, product"
   ],
   "outputs": [],
   "execution_count": 5
  },
  {
   "cell_type": "code",
   "id": "9f7e4acbb17a9383",
   "metadata": {
    "ExecuteTime": {
     "end_time": "2025-10-09T21:01:59.386341Z",
     "start_time": "2025-10-09T21:01:59.382458Z"
    }
   },
   "source": [
    "board=[[5,8,6,3,4],0,[7,1,6,1,8],0,[9,7,3,2,1],1]"
   ],
   "outputs": [],
   "execution_count": 6
  },
  {
   "cell_type": "code",
   "id": "d625cccaabdbab83",
   "metadata": {
    "ExecuteTime": {
     "end_time": "2025-10-09T21:02:00.912964Z",
     "start_time": "2025-10-09T21:02:00.908950Z"
    }
   },
   "source": [
    "board1=[[9,0,3,4,2],2,[7,0,7,9,4],0,[3,9,4,5,8],2,[3,4,1,0,9],1,[5,1,5,4,5],2,[1,2,5,3,1],1]"
   ],
   "outputs": [],
   "execution_count": 7
  },
  {
   "metadata": {
    "ExecuteTime": {
     "end_time": "2025-10-09T21:02:00.919041Z",
     "start_time": "2025-10-09T21:02:00.914729Z"
    }
   },
   "cell_type": "code",
   "source": "board12=[[9,0,3,4,2],2,4,[7,0,7,9,4],0,2,[3,9,4,5,8],2,1,[3,4,1,0,9],1,2,[5,1,5,4,5],2,0,[1,2,5,3,1],1,1]",
   "id": "7fb8cbd2977f8634",
   "outputs": [],
   "execution_count": 8
  },
  {
   "cell_type": "code",
   "id": "59ea9b0d5c1b3f18",
   "metadata": {
    "ExecuteTime": {
     "end_time": "2025-10-09T21:02:01.300129Z",
     "start_time": "2025-10-09T21:02:01.290413Z"
    }
   },
   "source": [
    "board=[[5,6,1,6,1,8,5,6,5,0,5,1,8,2,9,3],2,[3,8,4,7,4,3,9,6,4,7,2,9,3,0,4,7],1,[5,8,5,5,4,6,2,9,4,0,8,1,0,5,8,7],3,[9,7,4,2,8,5,5,5,0,7,0,6,8,3,5,3],3,[4,2,9,6,8,4,9,6,4,3,6,0,7,5,4,3],3,[3,1,7,4,2,4,8,4,3,9,4,6,5,8,5,8],1,[4,5,1,3,5,5,9,0,9,4,1,4,6,1,1,7],2,[7,8,9,0,9,7,1,5,4,8,9,0,8,0,6,7],3,[8,1,5,7,3,5,6,3,4,4,1,1,8,4,8,3],1,[2,6,1,5,2,5,0,7,4,4,3,8,6,8,9,9],2,[8,6,9,0,0,9,5,8,5,1,5,2,6,2,5,4],3,[6,3,7,5,7,1,1,9,1,5,0,7,7,0,5,0],1,[6,9,1,3,8,5,9,1,7,3,1,2,1,3,6,0],1,[6,4,4,2,8,8,9,0,5,5,0,4,2,7,6,8],2,[2,3,2,1,3,8,6,1,0,4,3,0,3,8,4,5],0,[2,3,2,6,5,0,9,4,7,1,2,7,1,4,4,8],2,[5,2,5,1,5,8,3,3,7,9,6,4,4,3,2,2],2,[1,7,4,8,2,7,0,4,7,6,7,5,8,2,7,6],3,[4,8,9,5,7,2,2,6,5,2,1,9,0,3,0,6],1,[3,0,4,1,6,3,1,1,1,7,2,2,4,6,3,5],3,[1,8,4,1,2,3,6,4,5,4,3,2,4,5,8,9],3,[2,6,5,9,8,6,2,6,3,7,3,1,6,8,6,7],2]\n",
    "\n",
    "board2 = [\n",
    "[1,1,2,2],0,1,\n",
    "[3,4,4,1],1,1,\n",
    "[5,3,5,1],1,1,\n",
    "[6,6,3,1],0,1,\n",
    "[2,4,5,3],1,3\n",
    "]"
   ],
   "outputs": [],
   "execution_count": 9
  },
  {
   "cell_type": "code",
   "id": "34503dddf141c542",
   "metadata": {
    "ExecuteTime": {
     "end_time": "2025-10-09T21:02:10.700877Z",
     "start_time": "2025-10-09T21:02:10.470258Z"
    }
   },
   "source": [
    "def mastermind1_aux(B):\n",
    "    # px10 matrix of booleans where p is the number of positions/length of the sequence\n",
    "    P = [[Bool(f'p_{p}_{n}') for n in range(10)] for p in range (1,len(B[0])+1)]\n",
    "    s = Solver()\n",
    "    # One digit must be true per position:\n",
    "    for pos in range(len(P)):\n",
    "        s.add(Or(P[pos]))\n",
    "        # No more than one digit can be true per position:\n",
    "        for digit in range(10):\n",
    "            for i in range(digit+1,10):\n",
    "                s.add(Not(And(P[pos][digit],P[pos][i])))\n",
    "    for i in range(0,len(B),2):\n",
    "        b = [] # List of relevant booleans for the current line of the board\n",
    "        aux = []\n",
    "        for j in range(len(B[i])):\n",
    "            b.append(P[j][B[i][j]])\n",
    "        if B[i+1] == 0:\n",
    "            s.add(Not(Or(b))) # These variables must necessarily be false since no position was correct\n",
    "        else:\n",
    "            comb = list(combinations(b,B[i+1])) # List of tuples of length k, where k is the number of correct positions\n",
    "            for tuples in comb:\n",
    "                other = [ x for x in b if x not in tuples ] # Complement set of current tuple\n",
    "                aux.append(And(And(tuples),Not((Or(other))))) # If current tuple is true, all other numbers are false\n",
    "            s.add(Or(aux)) # One of the previous conditions must hold from the set of all tuples\n",
    "    print('Finding a solution ...')\n",
    "    count = 0\n",
    "    #found = False\n",
    "    if s.check() == sat:\n",
    "        m = s.model()\n",
    "        solution = []\n",
    "        # Search boolean matrix for trues to present solution:\n",
    "        for pos in range(len(P)):\n",
    "            for digit in range(10):\n",
    "                if m[P[pos][digit]]:\n",
    "                    solution.append(digit)\n",
    "        count += 1\n",
    "        print(f'Solution {count}: {solution}')\n",
    "     #   found = True\n",
    "        return [s,P,solution]\n",
    "        \n",
    "    else:\n",
    "        print('No solutions found')\n",
    "\n",
    "def mastermind1(B):\n",
    "    return mastermind1_aux(B)[2]\n",
    "def unique_solution1(B):\n",
    "    R = mastermind1_aux(B)\n",
    "    S = R[0]\n",
    "    P = R[1]\n",
    "    solution = R[2]\n",
    "    # Deny the solution given by mastermind1 in the model to see if it's unique:\n",
    "    for pos in range(len(P)):\n",
    "            S.add(Not(P[pos][solution[pos]]))\n",
    "    return S.check() == unsat\n",
    "    \n",
    "\n",
    "unique_solution1(board1)   \n",
    "\n",
    "def mastermind2_aux(B):\n",
    "    # px10 matrix of booleans where p is the number of positions/length of the sequence\n",
    "    P = [[Bool(f'p_{p}_{n}') for n in range(10)] for p in range (1,len(B[0])+1)]\n",
    "    s = Solver()\n",
    "    # One digit must be true per position:\n",
    "    for pos in range(len(P)):\n",
    "        s.add(Or(P[pos]))\n",
    "        # No more than one digit can be true per position:\n",
    "        for digit in range(10):\n",
    "            for i in range(digit+1,10):\n",
    "                s.add(Not(And(P[pos][digit],P[pos][i])))\n",
    "    for i in range(0,len(B),3):\n",
    "        b = [] # List of relevant booleans for the current line of the board\n",
    "\n",
    "        aux_black = []\n",
    "        aux_white = []\n",
    "        for j in range(len(B[i])):\n",
    "            b.append(P[j][B[i][j]])\n",
    "        if B[i+1] == 0:\n",
    "            s.add(Not(Or(b))) # These variables must necessarily be false since no position was correct\n",
    "        else:\n",
    "            comb_black = list(combinations(b,B[i + 1])) # List of tuples of length k, where k is the number of correct positions\n",
    "            comb_white = list(combinations(list(enumerate(B[i])),B[i + 2]))\n",
    "\n",
    "            for tuples in comb_black:\n",
    "                other = [ x for x in b if x not in tuples ] # Complement set of current tuple\n",
    "                aux_black.append(And(And(tuples),Not((Or(other))))) # If current tuple is true, all other numbers are false\n",
    "            \n",
    "            s.add(Or(aux_black))\n",
    "            pos = [i for i in range(len(B[i]))]\n",
    "            for tuples in comb_white:\n",
    "                lt = len(tuples)\n",
    "                ns = [tuples[i][1] for i in range (lt)]\n",
    "                other = [ x for x in B[i] if x not in [tuples[j][1] for j in range(lt)] ] # Complement set of current tuple\n",
    "                other = [P[j][x] for x in other]\n",
    "                adds = list(product(pos,ns))\n",
    "                aux_white.append(And(And(Or([P[x[0]][x[1]] for x in adds])),Not(Or([P[x[0]][x[1]] for x in tuples]))))# If current tuple is true, all other numbers are false\n",
    "\n",
    "        \n",
    "            s.add(Or(aux_white)) # One of the previous conditions must hold from the set of all tuples\n",
    "    \n",
    "    print('Finding all solutions...')\n",
    "    count = 0\n",
    "    found = False\n",
    "    while s.check() == sat:\n",
    "        m = s.model()\n",
    "        solution = []\n",
    "        # Search boolean matrix for trues to present solution:\n",
    "        for pos in range(len(P)):\n",
    "            for digit in range(10):\n",
    "                if m[P[pos][digit]]:\n",
    "                    solution.append(digit)\n",
    "        count += 1\n",
    "        print(f'Solution {count}: {solution}')\n",
    "        found = True\n",
    "        # Deny this solution in the model to search for others:\n",
    "        for pos in range(len(P)):\n",
    "            s.add(Not(P[pos][solution[pos]]))\n",
    "    if found == False:\n",
    "        print('No solutions found')\n",
    "\n",
    "\n",
    "mastermind2_aux(board12)"
   ],
   "outputs": [
    {
     "name": "stdout",
     "output_type": "stream",
     "text": [
      "Finding a solution ...\n",
      "Solution 1: [3, 9, 5, 4, 2]\n",
      "Finding all solutions...\n",
      "No solutions found\n"
     ]
    }
   ],
   "execution_count": 10
  },
  {
   "cell_type": "code",
   "execution_count": null,
   "id": "bec3e5e9376e3315",
   "metadata": {},
   "outputs": [],
   "source": [
    "#rabiscos e apêndic(it)es:\n",
    "for i in range(0,len(board),3):\n",
    "    b = [] # List of relevant booleans for the current line of the board\n",
    "    aux = []\n",
    "    for j in range(len(board[i])):\n",
    "        b.append(P[j][board[i][j]])\n",
    "    if board[i+1]==0:\n",
    "        if board[i+2] == 0:\n",
    "            # None of the proposed numbers can be true, regardless of position:\n",
    "            for row in range(len(P)):\n",
    "                aux.append(P[row][board[i][row]])\n",
    "            s.add(Not(Or(aux)))\n",
    "        else:\n",
    "            combswap = list(combinations(list(enumerate(board[i])),board[i+2]))\n",
    "            #s.add(Not(Or(b)))\n",
    "            for tuples in combswap:\n",
    "                keep=[]\n",
    "                swap=[]\n",
    "                possible=list(permutations(list(enumerate(board[i])),board[i+2]))\n",
    "                for k in range(len(tuples)):\n",
    "                    for move in range(len(possible)-1,-1,-1):\n",
    "                        if possible[move][k] == tuples[k]:\n",
    "                            possible.pop(move)\n",
    "                    keep.append(P[tuples[k][0]][tuples[k][1]])\n",
    "                for groups in possible:\n",
    "                    for h in range(len(groups)):\n",
    "                        swap.append(P[groups[h][0]][tuples[h][1]])\n",
    "                aux.append(And(Not(Or(keep)),And(swap)))\n",
    "            s.add(Or(aux))\n",
    "s.check()\n",
    "\n",
    "\n",
    "\n",
    "\n",
    "\n",
    "\n",
    "#    elif board[i+2] == 0:\n",
    "#        comb = list(combinations(b,board[i+1]))\n",
    "#        for tuples in comb:\n",
    "#            other = [ x for x in b if x not in tuples ] # Complement set of current tuple\n",
    "#            aux.append(And(And(tuples),Not((Or(other))))) # If current tuple is true, all other numbers are false\n",
    "#        s.add(Or(aux)) # One of the previous conditions must hold from the set of all tuples\n",
    "#    else:\n",
    "#        combc = list(combinations(list(enumerate(board[i])),board[i+1]))\n",
    "#        combs = list(combinations(list(enumerate(board[i])),board[i+2]))\n",
    "#        print('C:',combc)\n",
    "#        print('S:',combs)"
   ]
  }
 ],
 "metadata": {
  "kernelspec": {
   "display_name": "Python 3",
   "language": "python",
   "name": "python3"
  },
  "language_info": {
   "codemirror_mode": {
    "name": "ipython",
    "version": 2
   },
   "file_extension": ".py",
   "mimetype": "text/x-python",
   "name": "python",
   "nbconvert_exporter": "python",
   "pygments_lexer": "ipython2",
   "version": "2.7.6"
  }
 },
 "nbformat": 4,
 "nbformat_minor": 5
}
