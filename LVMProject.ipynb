{
 "cells": [
  {
   "cell_type": "code",
   "id": "initial_id",
   "metadata": {
    "ExecuteTime": {
     "end_time": "2025-10-14T16:05:11.234583Z",
     "start_time": "2025-10-14T16:05:11.184534Z"
    }
   },
   "source": [
    "from z3 import *\n",
    "from itertools import combinations\n",
    "from itertools import permutations\n",
    "from itertools import product"
   ],
   "outputs": [],
   "execution_count": 1
  },
  {
   "metadata": {
    "ExecuteTime": {
     "end_time": "2025-10-10T02:50:33.944857Z",
     "start_time": "2025-10-10T02:50:33.939954Z"
    }
   },
   "cell_type": "code",
   "source": "board=[[1,2,3,4],0,4,[2,3,4,1],0,4,[3,4,1,2],0,4]",
   "id": "a68b3e786007fe0",
   "outputs": [],
   "execution_count": 51
  },
  {
   "metadata": {
    "ExecuteTime": {
     "end_time": "2025-10-14T16:58:45.756725Z",
     "start_time": "2025-10-14T16:58:45.751683Z"
    }
   },
   "cell_type": "code",
   "source": "board=[[1,1,2,2],0,1,[3,4,4,1],1,1,[5,3,5,1],1,1,[6,6,3,1],0,1,[2,4,5,3],1,3]",
   "id": "a534b30aa7eb8419",
   "outputs": [],
   "execution_count": 69
  },
  {
   "metadata": {
    "ExecuteTime": {
     "end_time": "2025-10-08T15:36:38.400337Z",
     "start_time": "2025-10-08T15:36:38.394919Z"
    }
   },
   "cell_type": "code",
   "source": "board=[[5,8,6,3,4],0,[7,1,6,1,8],0,[9,7,3,2,1],1]",
   "id": "9f7e4acbb17a9383",
   "outputs": [],
   "execution_count": 62
  },
  {
   "metadata": {
    "ExecuteTime": {
     "end_time": "2025-10-08T15:17:26.006140Z",
     "start_time": "2025-10-08T15:17:25.998068Z"
    }
   },
   "cell_type": "code",
   "source": "board=[[9,0,3,4,2],2,[7,0,7,9,4],0,[3,9,4,5,8],2,[3,4,1,0,9],1,[5,1,5,4,5],2,[1,2,5,3,1],1]",
   "id": "d625cccaabdbab83",
   "outputs": [],
   "execution_count": 9
  },
  {
   "metadata": {
    "ExecuteTime": {
     "end_time": "2025-10-08T15:37:00.291693Z",
     "start_time": "2025-10-08T15:37:00.278128Z"
    }
   },
   "cell_type": "code",
   "source": "board=[[5,6,1,6,1,8,5,6,5,0,5,1,8,2,9,3],2,[3,8,4,7,4,3,9,6,4,7,2,9,3,0,4,7],1,[5,8,5,5,4,6,2,9,4,0,8,1,0,5,8,7],3,[9,7,4,2,8,5,5,5,0,7,0,6,8,3,5,3],3,[4,2,9,6,8,4,9,6,4,3,6,0,7,5,4,3],3,[3,1,7,4,2,4,8,4,3,9,4,6,5,8,5,8],1,[4,5,1,3,5,5,9,0,9,4,1,4,6,1,1,7],2,[7,8,9,0,9,7,1,5,4,8,9,0,8,0,6,7],3,[8,1,5,7,3,5,6,3,4,4,1,1,8,4,8,3],1,[2,6,1,5,2,5,0,7,4,4,3,8,6,8,9,9],2,[8,6,9,0,0,9,5,8,5,1,5,2,6,2,5,4],3,[6,3,7,5,7,1,1,9,1,5,0,7,7,0,5,0],1,[6,9,1,3,8,5,9,1,7,3,1,2,1,3,6,0],1,[6,4,4,2,8,8,9,0,5,5,0,4,2,7,6,8],2,[2,3,2,1,3,8,6,1,0,4,3,0,3,8,4,5],0,[2,3,2,6,5,0,9,4,7,1,2,7,1,4,4,8],2,[5,2,5,1,5,8,3,3,7,9,6,4,4,3,2,2],2,[1,7,4,8,2,7,0,4,7,6,7,5,8,2,7,6],3,[4,8,9,5,7,2,2,6,5,2,1,9,0,3,0,6],1,[3,0,4,1,6,3,1,1,1,7,2,2,4,6,3,5],3,[1,8,4,1,2,3,6,4,5,4,3,2,4,5,8,9],3,[2,6,5,9,8,6,2,6,3,7,3,1,6,8,6,7],2]",
   "id": "59ea9b0d5c1b3f18",
   "outputs": [],
   "execution_count": 64
  },
  {
   "metadata": {
    "ExecuteTime": {
     "end_time": "2025-10-14T11:53:05.925125Z",
     "start_time": "2025-10-14T11:53:05.634274Z"
    }
   },
   "cell_type": "code",
   "source": [
    "# px10 matrix of booleans where p is the number of positions/length of the sequence\n",
    "P = [[Bool(f'p_{p}_{n}') for n in range(10)] for p in range (1,len(board[0])+1)]\n",
    "s = Solver()\n",
    "# One digit must be true per position:\n",
    "for pos in range(len(P)):\n",
    "    s.add(Or(P[pos]))\n",
    "    # No more than one digit can be true per position:\n",
    "    for digit in range(10):\n",
    "        for i in range(digit+1,10):\n",
    "            s.add(Not(And(P[pos][digit],P[pos][i])))\n",
    "for i in range(0,len(board),2):\n",
    "    b = [] # List of relevant booleans for the current line of the board\n",
    "    aux = []\n",
    "    for j in range(len(board[i])):\n",
    "        b.append(P[j][board[i][j]])\n",
    "    if board[i+1] == 0:\n",
    "        s.add(Not(Or(b))) # These variables must necessarily be false since no position was correct\n",
    "    else:\n",
    "        comb = list(combinations(b,board[i+1])) # List of tuples of length k, where k is the number of correct positions\n",
    "        for tuples in comb:\n",
    "            other = [ x for x in b if x not in tuples ] # Complement set of current tuple\n",
    "            aux.append(And(And(tuples),Not((Or(other))))) # If current tuple is true, all other numbers are false\n",
    "        s.add(Or(aux)) # One of the previous conditions must hold from the set of all tuples\n",
    "print('Finding all solutions...')\n",
    "count = 1\n",
    "found = False\n",
    "while s.check() == sat:\n",
    "    m = s.model()\n",
    "    solution = []\n",
    "    # Search boolean matrix for trues to present solution:\n",
    "    for pos in range(len(P)):\n",
    "        for digit in range(10):\n",
    "            if m[P[pos][digit]]:\n",
    "                solution.append(digit)\n",
    "    print(f'Solution {count}: {solution}')\n",
    "    count += 1\n",
    "    found = True\n",
    "    # Deny this solution in the model to search for others:\n",
    "    for pos in range(len(P)):\n",
    "        s.add(Not(P[pos][solution[pos]]))\n",
    "if found == False:\n",
    "    print('No solutions found')"
   ],
   "id": "34503dddf141c542",
   "outputs": [
    {
     "ename": "TypeError",
     "evalue": "object of type 'int' has no len()",
     "output_type": "error",
     "traceback": [
      "\u001B[31m---------------------------------------------------------------------------\u001B[39m",
      "\u001B[31mTypeError\u001B[39m                                 Traceback (most recent call last)",
      "\u001B[36mCell\u001B[39m\u001B[36m \u001B[39m\u001B[32mIn[3]\u001B[39m\u001B[32m, line 14\u001B[39m\n\u001B[32m     12\u001B[39m b = [] \u001B[38;5;66;03m# List of relevant booleans for the current line of the board\u001B[39;00m\n\u001B[32m     13\u001B[39m aux = []\n\u001B[32m---> \u001B[39m\u001B[32m14\u001B[39m \u001B[38;5;28;01mfor\u001B[39;00m j \u001B[38;5;129;01min\u001B[39;00m \u001B[38;5;28mrange\u001B[39m(\u001B[38;5;28;43mlen\u001B[39;49m\u001B[43m(\u001B[49m\u001B[43mboard\u001B[49m\u001B[43m[\u001B[49m\u001B[43mi\u001B[49m\u001B[43m]\u001B[49m\u001B[43m)\u001B[49m):\n\u001B[32m     15\u001B[39m     b.append(P[j][board[i][j]])\n\u001B[32m     16\u001B[39m \u001B[38;5;28;01mif\u001B[39;00m board[i+\u001B[32m1\u001B[39m] == \u001B[32m0\u001B[39m:\n",
      "\u001B[31mTypeError\u001B[39m: object of type 'int' has no len()"
     ]
    }
   ],
   "execution_count": 3
  },
  {
   "metadata": {
    "ExecuteTime": {
     "end_time": "2025-10-10T02:28:00.241319Z",
     "start_time": "2025-10-10T02:28:00.220154Z"
    }
   },
   "cell_type": "code",
   "source": [
    "s=Solver()\n",
    "for i in range(0,len(board),3):\n",
    "    b = [] # List of relevant booleans for the current line of the board\n",
    "    aux = []\n",
    "    for j in range(len(board[i])):\n",
    "        b.append(P[j][board[i][j]])\n",
    "    if board[i+1]==0:\n",
    "        s.add(Not(Or(b)))\n",
    "        if board[i+2] == 0:\n",
    "            # None of the proposed numbers can be true, regardless of position:\n",
    "            s.add(Not(Or([P[pos][board[i][pos]] for pos in range(len(P))])))\n",
    "        else:\n",
    "            combswap = list(combinations(list(enumerate(board[i])),board[i+2]))\n",
    "            for tuples in combswap:\n",
    "                #keep=[]\n",
    "                #swap=[]\n",
    "                possible=list(permutations(list(enumerate(board[i])),board[i+2]))\n",
    "                for k in range(len(tuples)):\n",
    "                    for move in range(len(possible)-1,-1,-1):\n",
    "                        if possible[move][k] == tuples[k]:\n",
    "                            possible.pop(move)\n",
    "                    #keep.append(P[tuples[k][0]][tuples[k][1]])\n",
    "                for groups in possible:\n",
    "                    swap=[]\n",
    "                    for k in range(len(groups)):\n",
    "                        swap.append(P[groups[k][0]][tuples[k][1]])\n",
    "                    aux.append(And(swap))\n",
    "                #aux.append(And(Not(Or(keep)),And(swap)))\n",
    "            s.add(Or(aux))\n",
    "            aux=[]\n",
    "    else:\n",
    "        if board[i+2] == 0:\n",
    "            comb = list(combinations(b,board[i+1])) # List of tuples of length k, where k is the number of correct positions\n",
    "            for tuples in comb:\n",
    "                other = [ x for x in b if x not in tuples ] # Complement set of current tuple\n",
    "                aux.append(And(And(tuples),Not((Or(other))))) # If current tuple is true, all other numbers are false\n",
    "            s.add(Or(aux))\n",
    "#        else:\n",
    "            #hard\n",
    "s.check()\n",
    "m=s.model()\n",
    "solution = []\n",
    "for pos in range(len(P)):\n",
    "    for digit in range(10):\n",
    "        if m[P[pos][digit]]:\n",
    "            solution.append(P[pos][digit])\n",
    "print(solution)\n",
    "#print('Finding all solutions...')\n",
    "#count = 1\n",
    "#found = False\n",
    "#while s.check() == sat:\n",
    "#    m = s.model()\n",
    "#    solution = []\n",
    "    # Search boolean matrix for trues to present solution:\n",
    "#    for pos in range(len(P)):\n",
    "#        for digit in range(10):\n",
    "#            if m[P[pos][digit]]:\n",
    "#                solution.append(digit)\n",
    "#    print(f'Solution {count}: {solution}')\n",
    "#    count += 1\n",
    "#    found = True\n",
    "    # Deny this solution in the model to search for others:\n",
    "#    for pos in range(len(P)):\n",
    "#        print(pos,solution)\n",
    "#        s.add(Not(P[pos][solution[pos]]))\n",
    "#if found == False:\n",
    "#    print('No solutions found')"
   ],
   "id": "bec3e5e9376e3315",
   "outputs": [
    {
     "name": "stdout",
     "output_type": "stream",
     "text": [
      "[p_3_1]\n"
     ]
    }
   ],
   "execution_count": 34
  },
  {
   "metadata": {
    "ExecuteTime": {
     "end_time": "2025-10-08T23:27:14.792949Z",
     "start_time": "2025-10-08T23:27:14.781733Z"
    }
   },
   "cell_type": "code",
   "source": [
    "combs = list(combinations(list(enumerate(board[0])),board[0+2]))\n",
    "for tuples in combs:\n",
    "    other = [ x for x in list(enumerate(board[0])) if x not in tuples ]\n",
    "    print(other)"
   ],
   "id": "6137ebff7ba1dbcc",
   "outputs": [
    {
     "name": "stdout",
     "output_type": "stream",
     "text": [
      "[(1, 1), (2, 2), (3, 2)]\n",
      "[(0, 1), (2, 2), (3, 2)]\n",
      "[(0, 1), (1, 1), (3, 2)]\n",
      "[(0, 1), (1, 1), (2, 2)]\n"
     ]
    }
   ],
   "execution_count": 31
  },
  {
   "metadata": {
    "ExecuteTime": {
     "end_time": "2025-10-09T17:11:34.241168Z",
     "start_time": "2025-10-09T17:11:34.217286Z"
    }
   },
   "cell_type": "code",
   "source": [
    "combswap = list(combinations(list(enumerate(board[0])),board[0+2]))\n",
    "move = list(permutations(list(enumerate(board[0])),board[0+2]))\n",
    "tuples=combswap[0]\n",
    "for i in range(len(move)-1,-1,-1):\n",
    "    for j in range(len(tuples)):\n",
    "        if move[i][j] == tuples[j]:\n",
    "            move.pop(i)\n",
    "move"
   ],
   "id": "c822c6989b97ecbf",
   "outputs": [
    {
     "data": {
      "text/plain": [
       "[((1, 1), (0, 1)),\n",
       " ((1, 1), (2, 2)),\n",
       " ((1, 1), (3, 2)),\n",
       " ((2, 2), (0, 1)),\n",
       " ((2, 2), (3, 2)),\n",
       " ((3, 2), (0, 1)),\n",
       " ((3, 2), (2, 2))]"
      ]
     },
     "execution_count": 41,
     "metadata": {},
     "output_type": "execute_result"
    }
   ],
   "execution_count": 41
  },
  {
   "metadata": {
    "ExecuteTime": {
     "end_time": "2025-10-10T02:02:00.803622Z",
     "start_time": "2025-10-10T02:02:00.783882Z"
    }
   },
   "cell_type": "code",
   "source": [
    "x1=Bool('x1')\n",
    "y1=Bool('y1')\n",
    "z1=Bool('z1')\n",
    "x2=Bool('x2')\n",
    "y2=Bool('y2')\n",
    "z2=Bool('z2')\n",
    "x3=Bool('x3')\n",
    "y3=Bool('y3')\n",
    "z3=Bool('z3')\n",
    "resolver=Solver()\n",
    "cond=[]\n",
    "cond.append(And(Not(Or(x1,y2)),And(x2,y3)))\n",
    "cond.append(And(Not(Or(x1,y2)),And(y1,x2)))\n",
    "cond.append(And(Not(Or(x1,y2)),And(y1,x3)))\n",
    "resolver.add(Or(cond))\n",
    "cond2=[]\n",
    "cond2.append(And(Not(Or(x1,z3)),And(z1,x2)))\n",
    "cond2.append(And(Not(Or(x1,z3)),And(z1,x3)))\n",
    "cond2.append(And(Not(Or(x1,z3)),And(z2,x3)))\n",
    "resolver.add(Or(cond2))\n",
    "cond3=[]\n",
    "cond3.append(And(Not(Or(y2,z3)),And(y1,z2)))\n",
    "cond3.append(And(Not(Or(y2,z3)),And(y3,z1)))\n",
    "cond3.append(And(Not(Or(y2,z3)),And(y3,z2)))\n",
    "resolver.add(Or(cond3))\n",
    "resolver.check()\n",
    "#m=s.model()"
   ],
   "id": "f72782091ba23300",
   "outputs": [
    {
     "data": {
      "text/plain": [
       "sat"
      ],
      "text/html": [
       "<b>sat</b>"
      ]
     },
     "execution_count": 8,
     "metadata": {},
     "output_type": "execute_result"
    }
   ],
   "execution_count": 8
  },
  {
   "metadata": {
    "ExecuteTime": {
     "end_time": "2025-10-09T22:38:56.888529Z",
     "start_time": "2025-10-09T22:38:56.872163Z"
    }
   },
   "cell_type": "code",
   "source": [
    "B=[[1,1,2,2],0,1]\n",
    "b=[]\n",
    "for j in range(len(B[0])):\n",
    "    b.append(P[j][B[0][j]])\n",
    "comb_black = list(combinations(b,B[0 + 1])) # List of tuples of length k, where k is the number of correct positions\n",
    "comb_white = list(combinations(list(enumerate(B[0])),B[0 + 2]))\n",
    "aux_black=[]\n",
    "aux_white=[]\n",
    "for tuples in comb_black:\n",
    "    other = [ x for x in b if x not in tuples ] # Complement set of current tuple\n",
    "    aux_black.append(And(And(tuples),Not((Or(other))))) # If current tuple is true, all other numbers are false\n",
    "s.add(Or(aux_black))\n",
    "pos = list(range(len(B[0])))\n",
    "for tuples in comb_white:\n",
    "    lt = len(tuples)\n",
    "    ns = [tuples[i][1] for i in range (lt)]\n",
    "    print(ns)\n",
    "    other = [ x for x in B[0] if x not in [tuples[j][1] for j in range(lt)] ] # Complement set of current tuple\n",
    "    print(other)\n",
    "    other = [P[j][x] for x in other]\n",
    "    print(other)\n",
    "    adds = list(product(pos,ns))\n",
    "    print(adds)\n",
    "    print(tuples)\n",
    "    aux_white.append(And(And(Or([P[x[0]][x[1]] for x in adds])),Not(Or([P[x[0]][x[1]] for x in tuples]))))# If current tuple is true, all other numbers are false\n",
    "\n",
    "\n",
    "s.add(Or(aux_white))\n",
    "s.check()"
   ],
   "id": "2c4eeccb04a5381e",
   "outputs": [
    {
     "name": "stdout",
     "output_type": "stream",
     "text": [
      "[1]\n",
      "[2, 2]\n",
      "[p_4_2, p_4_2]\n",
      "[(0, 1), (1, 1), (2, 1), (3, 1)]\n",
      "((0, 1),)\n",
      "[1]\n",
      "[2, 2]\n",
      "[p_4_2, p_4_2]\n",
      "[(0, 1), (1, 1), (2, 1), (3, 1)]\n",
      "((1, 1),)\n",
      "[2]\n",
      "[1, 1]\n",
      "[p_4_1, p_4_1]\n",
      "[(0, 2), (1, 2), (2, 2), (3, 2)]\n",
      "((2, 2),)\n",
      "[2]\n",
      "[1, 1]\n",
      "[p_4_1, p_4_1]\n",
      "[(0, 2), (1, 2), (2, 2), (3, 2)]\n",
      "((3, 2),)\n"
     ]
    },
    {
     "data": {
      "text/plain": [
       "sat"
      ],
      "text/html": [
       "<b>sat</b>"
      ]
     },
     "execution_count": 20,
     "metadata": {},
     "output_type": "execute_result"
    }
   ],
   "execution_count": 20
  },
  {
   "metadata": {
    "ExecuteTime": {
     "end_time": "2025-10-10T02:52:14.829634Z",
     "start_time": "2025-10-10T02:52:14.744285Z"
    }
   },
   "cell_type": "code",
   "source": [
    "s = Solver()\n",
    "for pos in range(len(P)):\n",
    "    s.add(Or(P[pos]))\n",
    "    # No more than one digit can be true per position:\n",
    "    for digit in range(10):\n",
    "        for i in range(digit+1,10):\n",
    "            s.add(Not(And(P[pos][digit],P[pos][i])))\n",
    "for i in range(0, len(board), 3):\n",
    "    b = []  # List of relevant booleans for the current line of the board\n",
    "    aux = []\n",
    "    ranc=False\n",
    "    rans=False\n",
    "    for j in range(len(board[i])):\n",
    "        b.append(P[j][board[i][j]])\n",
    "    #if board[i + 1] == 0:\n",
    "    #    s.add(Not(Or(b)))\n",
    "    #    if board[i + 2] == 0:\n",
    "            # None of the proposed numbers can be true, regardless of position:\n",
    "    #        s.add(Not(Or([P[pos][board[i][pos]] for pos in range(len(P))])))\n",
    "    #    else:\n",
    "    if board[i+2] != 0:\n",
    "        combswap = list(combinations(list(enumerate(board[i])), board[i + 2]))\n",
    "        for tuples in combswap:\n",
    "            possible = list(permutations(list(enumerate(board[i])), board[i + 2]))\n",
    "            for k in range(len(tuples)):\n",
    "                for move in range(len(possible) - 1, -1, -1):\n",
    "                    if possible[move][k] == tuples[k]:\n",
    "                        possible.pop(move)\n",
    "            for groups in possible:\n",
    "                swap = []\n",
    "                for k in range(len(groups)):\n",
    "                    swap.append(P[groups[k][0]][tuples[k][1]])\n",
    "                aux.append(And(swap))\n",
    "        s.add(Or(aux))\n",
    "        rans = True\n",
    "    #else:\n",
    "    #    if board[i + 2] == 0:\n",
    "    if board[i+1] != 0:\n",
    "        comb = list(\n",
    "            combinations(b, board[i + 1]))  # List of tuples of length k, where k is the number of correct positions\n",
    "        for tuples in comb:\n",
    "            other = [x for x in b if x not in tuples]  # Complement set of current tuple\n",
    "            aux.append(And(And(tuples), Not((Or(other)))))  # If current tuple is true, all other numbers are false\n",
    "        s.add(Or(aux))\n",
    "        ranc = True\n",
    "    if not ranc:\n",
    "        s.add(Not(Or(b)))\n",
    "    if not rans:\n",
    "        s.add(Not(Or([P[pos][board[i][pos]] for pos in range(len(P))])))\n",
    "\n",
    "\n",
    "\n",
    "\n",
    "        #        else:\n",
    "        #hard\n",
    "#s.check()\n",
    "#m = s.model()\n",
    "#solution = []\n",
    "#for pos in range(len(P)):\n",
    "#    for digit in range(10):\n",
    "#        if m[P[pos][digit]]:\n",
    "#            solution.append(P[pos][digit])\n",
    "#print(solution)\n",
    "print('Finding all solutions...')\n",
    "count = 1\n",
    "found = False\n",
    "while s.check() == sat:\n",
    "    m = s.model()\n",
    "    solution = []\n",
    " #Search boolean matrix for trues to present solution:\n",
    "    for pos in range(len(P)):\n",
    "        for digit in range(10):\n",
    "            if m[P[pos][digit]]:\n",
    "                solution.append(digit)\n",
    "    print(f'Solution {count}: {solution}')\n",
    "    count += 1\n",
    "    found = True\n",
    " #Deny this solution in the model to search for others:\n",
    "    for pos in range(len(P)):\n",
    "        s.add(Not(P[pos][solution[pos]]))\n",
    "if found == False:\n",
    "    print('No solutions found')"
   ],
   "id": "e9b016b63df847d5",
   "outputs": [
    {
     "name": "stdout",
     "output_type": "stream",
     "text": [
      "Finding all solutions...\n",
      "Solution 1: [5, 2, 4, 3]\n",
      "Solution 2: [3, 5, 1, 4]\n"
     ]
    }
   ],
   "execution_count": 57
  },
  {
   "metadata": {
    "ExecuteTime": {
     "end_time": "2025-10-14T17:10:39.271955Z",
     "start_time": "2025-10-14T17:10:39.158551Z"
    }
   },
   "cell_type": "code",
   "source": [
    "P = [[Bool(f'p_{p}_{n}') for n in range(10)] for p in range (1,len(board[0])+1)]\n",
    "s=Solver()\n",
    "for pos in range(len(P)):\n",
    "    s.add(Or(P[pos]))\n",
    "    for digit in range(10):\n",
    "        for i in range(digit+1,10):\n",
    "            s.add(Not(And(P[pos][digit],P[pos][i])))\n",
    "for i in range(0,len(board),3):\n",
    "    aux=[]\n",
    "    aux2=[]\n",
    "    b=[]\n",
    "    for j in range(len(board[i])):\n",
    "        b.append(P[j][board[i][j]])\n",
    "    if board[i+1] == 0:\n",
    "        s.add(Not(Or(b)))\n",
    "        if board[i+2] == 0:\n",
    "            s.add(Not(Or([P[pos][board[i][pos]] for pos in range(len(P))])))\n",
    "        else:\n",
    "            combs=list(combinations(list(enumerate(board[i])),board[i+2]))\n",
    "            for tuples in combs:\n",
    "                destination=list(permutations(list(enumerate(board[i])),board[i+2]))\n",
    "                for elem in range(len(tuples)):\n",
    "                    for move in range(len(destination)-1,-1,-1):\n",
    "                        if destination[move][elem]==tuples[elem]:\n",
    "                            destination.pop(move)\n",
    "                for move in destination:\n",
    "                    #for swap in tuples:\n",
    "                    #    aux.append(Not(P[swap[0]][swap[1]]))\n",
    "                    for d in range(len(move)):\n",
    "                        aux.append(P[move[d][0]][tuples[d][1]])\n",
    "                    aux2.append(And(aux))\n",
    "            print(aux2)\n",
    "            s.add(Or(aux2))\n",
    "    else:\n",
    "        if board[i+2] == 0:\n",
    "            combc = list(combinations(b,board[i+1])) # List of tuples of length k, where k is the number of correct positions\n",
    "            for tuplec in combc:\n",
    "                other = [ x for x in b if x not in tuplec ] # Complement set of current tuple\n",
    "                aux.append(And(And(tuplec),Not((Or(other))))) # If current tuple is true, all other numbers are false\n",
    "            s.add(Or(aux))\n",
    "        else:\n",
    "            combc=list(combinations(list(enumerate(board[i])),board[i+1]))\n",
    "            for tuplec in combc:\n",
    "                aux=[]\n",
    "                rest=list(enumerate(board[i]))\n",
    "                for elem in tuplec:\n",
    "                    rest.remove(elem)\n",
    "                for j in range(len(rest)):\n",
    "                    aux.append(Not(P[rest[j][0]][rest[j][1]]))\n",
    "                combs=list(combinations(rest,board[i+2]))\n",
    "                for tuples in combs:\n",
    "                    destination=list(permutations(rest,board[i+2]))\n",
    "                    for elem in range(len(tuples)):\n",
    "                        for move in range(len(destination)-1,-1,-1):\n",
    "                            if destination[move][elem]==tuples[elem]:\n",
    "                                destination.pop(move)\n",
    "                        for move in destination:\n",
    "                            for c in tuplec:\n",
    "                                aux.append(P[c[0]][c[1]])\n",
    "                            #for swap in tuples:\n",
    "                            #    aux.append(Not(P[swap[0]][swap[1]]))\n",
    "                            for d in range(len(move)):\n",
    "                                aux.append(P[move[d][0]][tuples[d][1]])\n",
    "                            aux2.append(And(aux))\n",
    "            s.add(Or(aux2))\n",
    "print('Finding all solutions...')\n",
    "count = 1\n",
    "found = False\n",
    "while s.check() == sat:\n",
    "    m = s.model()\n",
    "    solution = []\n",
    "   # Search boolean matrix for trues to present solution:\n",
    "    for pos in range(len(P)):\n",
    "        for digit in range(10):\n",
    "            if m[P[pos][digit]]:\n",
    "                solution.append(digit)\n",
    "    print(f'Solution {count}: {solution}')\n",
    "    count += 1\n",
    "    found = True\n",
    "    # Deny this solution in the model to search for others:\n",
    "    for pos in range(len(P)):\n",
    "        s.add(Not(P[pos][solution[pos]]))\n",
    "if found == False:\n",
    "    print('No solutions found')"
   ],
   "id": "1c21e187b7b7fc74",
   "outputs": [
    {
     "name": "stdout",
     "output_type": "stream",
     "text": [
      "[And(p_2_1), And(p_2_1, p_3_1), And(p_2_1, p_3_1, p_4_1), And(p_2_1, p_3_1, p_4_1, p_1_1), And(p_2_1, p_3_1, p_4_1, p_1_1, p_3_1), And(p_2_1, p_3_1, p_4_1, p_1_1, p_3_1, p_4_1), And(p_2_1, p_3_1, p_4_1, p_1_1, p_3_1, p_4_1, p_1_2), And(p_2_1, p_3_1, p_4_1, p_1_1, p_3_1, p_4_1, p_1_2, p_2_2), And(p_2_1,\n",
      "    p_3_1,\n",
      "    p_4_1,\n",
      "    p_1_1,\n",
      "    p_3_1,\n",
      "    p_4_1,\n",
      "    p_1_2,\n",
      "    p_2_2,\n",
      "    p_4_2), And(p_2_1,\n",
      "    p_3_1,\n",
      "    p_4_1,\n",
      "    p_1_1,\n",
      "    p_3_1,\n",
      "    p_4_1,\n",
      "    p_1_2,\n",
      "    p_2_2,\n",
      "    p_4_2,\n",
      "    p_1_2), And(p_2_1,\n",
      "    p_3_1,\n",
      "    p_4_1,\n",
      "    p_1_1,\n",
      "    p_3_1,\n",
      "    p_4_1,\n",
      "    p_1_2,\n",
      "    p_2_2,\n",
      "    p_4_2,\n",
      "    p_1_2,\n",
      "    p_2_2), And(p_2_1,\n",
      "    p_3_1,\n",
      "    p_4_1,\n",
      "    p_1_1,\n",
      "    p_3_1,\n",
      "    p_4_1,\n",
      "    p_1_2,\n",
      "    p_2_2,\n",
      "    p_4_2,\n",
      "    p_1_2,\n",
      "    p_2_2,\n",
      "    p_3_2)]\n",
      "[And(p_2_6), And(p_2_6, p_3_6), And(p_2_6, p_3_6, p_4_6), And(p_2_6, p_3_6, p_4_6, p_1_6), And(p_2_6, p_3_6, p_4_6, p_1_6, p_3_6), And(p_2_6, p_3_6, p_4_6, p_1_6, p_3_6, p_4_6), And(p_2_6, p_3_6, p_4_6, p_1_6, p_3_6, p_4_6, p_1_3), And(p_2_6, p_3_6, p_4_6, p_1_6, p_3_6, p_4_6, p_1_3, p_2_3), And(p_2_6,\n",
      "    p_3_6,\n",
      "    p_4_6,\n",
      "    p_1_6,\n",
      "    p_3_6,\n",
      "    p_4_6,\n",
      "    p_1_3,\n",
      "    p_2_3,\n",
      "    p_4_3), And(p_2_6,\n",
      "    p_3_6,\n",
      "    p_4_6,\n",
      "    p_1_6,\n",
      "    p_3_6,\n",
      "    p_4_6,\n",
      "    p_1_3,\n",
      "    p_2_3,\n",
      "    p_4_3,\n",
      "    p_1_1), And(p_2_6,\n",
      "    p_3_6,\n",
      "    p_4_6,\n",
      "    p_1_6,\n",
      "    p_3_6,\n",
      "    p_4_6,\n",
      "    p_1_3,\n",
      "    p_2_3,\n",
      "    p_4_3,\n",
      "    p_1_1,\n",
      "    p_2_1), And(p_2_6,\n",
      "    p_3_6,\n",
      "    p_4_6,\n",
      "    p_1_6,\n",
      "    p_3_6,\n",
      "    p_4_6,\n",
      "    p_1_3,\n",
      "    p_2_3,\n",
      "    p_4_3,\n",
      "    p_1_1,\n",
      "    p_2_1,\n",
      "    p_3_1)]\n",
      "Finding all solutions...\n",
      "No solutions found\n"
     ]
    }
   ],
   "execution_count": 78
  },
  {
   "metadata": {
    "ExecuteTime": {
     "end_time": "2025-10-14T16:58:16.838374Z",
     "start_time": "2025-10-14T16:58:16.834304Z"
    }
   },
   "cell_type": "code",
   "source": "board=[[1,1,1],1,0,[2,2,2],1,0,[3,3,3],1,0]",
   "id": "536f616078ccdda3",
   "outputs": [],
   "execution_count": 65
  },
  {
   "metadata": {
    "ExecuteTime": {
     "end_time": "2025-10-14T16:58:31.038878Z",
     "start_time": "2025-10-14T16:58:31.034059Z"
    }
   },
   "cell_type": "code",
   "source": "board=[[1,2,3,4,5],2,3,[3,4,5,1,2],1,4,[5,1,2,3,4],2,3]",
   "id": "73a9fe58b8236f2c",
   "outputs": [],
   "execution_count": 67
  },
  {
   "metadata": {},
   "cell_type": "code",
   "outputs": [],
   "execution_count": null,
   "source": "12534",
   "id": "d53b4ad6f64ccd37"
  },
  {
   "metadata": {
    "ExecuteTime": {
     "end_time": "2025-10-14T15:02:52.810215Z",
     "start_time": "2025-10-14T15:02:52.798838Z"
    }
   },
   "cell_type": "code",
   "source": "",
   "id": "aceec529c8414865",
   "outputs": [
    {
     "data": {
      "text/plain": [
       "<zip at 0x2327e6ca1c0>"
      ]
     },
     "execution_count": 1,
     "metadata": {},
     "output_type": "execute_result"
    }
   ],
   "execution_count": 1
  },
  {
   "metadata": {},
   "cell_type": "code",
   "outputs": [],
   "execution_count": null,
   "source": "",
   "id": "fd5f1a7ba0c6ed0a"
  }
 ],
 "metadata": {
  "kernelspec": {
   "display_name": "Python 3",
   "language": "python",
   "name": "python3"
  },
  "language_info": {
   "codemirror_mode": {
    "name": "ipython",
    "version": 2
   },
   "file_extension": ".py",
   "mimetype": "text/x-python",
   "name": "python",
   "nbconvert_exporter": "python",
   "pygments_lexer": "ipython2",
   "version": "2.7.6"
  }
 },
 "nbformat": 4,
 "nbformat_minor": 5
}
