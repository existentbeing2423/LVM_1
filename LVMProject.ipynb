{
 "cells": [
  {
   "cell_type": "code",
   "id": "initial_id",
   "metadata": {
    "ExecuteTime": {
     "end_time": "2025-10-07T13:01:53.229Z",
     "start_time": "2025-10-07T13:01:53.134145Z"
    }
   },
   "source": [
    "from z3 import *\n",
    "from itertools import combinations"
   ],
   "outputs": [],
   "execution_count": 1
  },
  {
   "metadata": {},
   "cell_type": "code",
   "outputs": [],
   "execution_count": null,
   "source": [
    "s=Solver()\n",
    "board=[[3,8,4,7,2],0,[1,8,5,7,0],1,[1,2,4,3,6],2,[1,2,3,5,4],3,[1,2,3,4,6],4]\n",
    "P=[[Bool(f'p_{p}_{n}') for n in range(10)] for p in range (1,17)]\n",
    "k=list(combinations(list(enumerate([5,6,7,8,9,4,3,2,1,0])),2))\n",
    "b=[]\n",
    "k=list(combinations(list(enumerate([1,2,4,3,6])),2))\n",
    "for i in range(len(k)):\n",
    "    b.append([])\n",
    "    for j in range(len(k[i])):\n",
    "        b[i].append(P[k[i][j][0]][k[i][j][1]])\n",
    "for i in range(len(b)):\n",
    "    r=[]\n",
    "    for j in range(i+1,len(b)):\n",
    "        r.append(Not(And(b[j])))\n",
    "    s.add(Implies(And(b[i]),And(r)))\n",
    "s.check()\n",
    "m=s.model()\n"
   ],
   "id": "612d990100185131"
  },
  {
   "metadata": {},
   "cell_type": "code",
   "outputs": [],
   "execution_count": null,
   "source": [
    "board=[[3,8,4,7,2],0,[1,8,5,7,0],1,[1,2,4,3,6],2,[1,2,3,5,4],3,[1,2,3,4,6],4]\n",
    "P=[[Bool(f'p_{p}_{n}') for n in range(10)] for p in range (1,17)]\n",
    "s=Solver()\n",
    "for i in range(len(P)):\n",
    "    s.add(Or(P[i]))\n",
    "for i in range(0,len(board),2):\n",
    "    if board[i+1]==0:\n",
    "        l=[]\n",
    "        for j in range(16):\n",
    "            l.append(P[j][board[i][j]])\n",
    "        s.add(Not(Or(l)))\n",
    "    elif board[i+1]==1:\n",
    "        l=[]\n",
    "        v=[]\n",
    "        for j in range(16):\n",
    "            l.append(P[j][board[i][j]])\n",
    "            #falta a=>-b-c-d-e-f-g-h-i-j.....\n",
    "            s.add(Or(l))\n",
    "    elif board[i+1]==2:\n",
    "        s.add()\n",
    "    elif board[i+1]==3:\n",
    "        s.add()\n",
    "\n"
   ],
   "id": "efe114c30d51cb14"
  }
 ],
 "metadata": {
  "kernelspec": {
   "display_name": "Python 3",
   "language": "python",
   "name": "python3"
  },
  "language_info": {
   "codemirror_mode": {
    "name": "ipython",
    "version": 2
   },
   "file_extension": ".py",
   "mimetype": "text/x-python",
   "name": "python",
   "nbconvert_exporter": "python",
   "pygments_lexer": "ipython2",
   "version": "2.7.6"
  }
 },
 "nbformat": 4,
 "nbformat_minor": 5
}
